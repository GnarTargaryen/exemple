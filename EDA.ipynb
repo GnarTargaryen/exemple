{
 "cells": [
  {
   "cell_type": "code",
   "execution_count": 1,
   "id": "e2566b2a-8b6b-412a-93e2-6ef6e0c313b5",
   "metadata": {},
   "outputs": [],
   "source": [
    "import pandas as pd \n",
    "import numpy as np\n",
    "import matplotlib.pyplot as plt\n",
    "import seaborn as sns\n",
    "sns.set()\n"
   ]
  },
  {
   "cell_type": "code",
   "execution_count": 2,
   "id": "17849880-0a6d-4094-927e-867b30dc1f0e",
   "metadata": {},
   "outputs": [],
   "source": [
    "df=pd.read_csv(\"cleaned_data.csv\")"
   ]
  },
  {
   "cell_type": "code",
   "execution_count": 3,
   "id": "7ea2af3b-60e7-4aa8-86db-3d338c5ea167",
   "metadata": {},
   "outputs": [
    {
     "data": {
      "text/plain": [
       "Index(['Unnamed: 0', 'App Name', 'Category', 'Rating', 'Rating Count',\n",
       "       'Minimum Installs', 'Maximum Installs', 'Free', 'Price', 'Currency',\n",
       "       'Size', 'Minimum Android', 'Developer Id', 'Released', 'Last Updated',\n",
       "       'Content Rating', 'Ad Supported', 'In App Purchases', 'Editors Choice',\n",
       "       'Scraped Time', 'Year'],\n",
       "      dtype='object')"
      ]
     },
     "execution_count": 3,
     "metadata": {},
     "output_type": "execute_result"
    }
   ],
   "source": [
    "df.columns"
   ]
  },
  {
   "cell_type": "code",
   "execution_count": 4,
   "id": "580518d2-3d1b-40f7-8554-24fc3db67bbc",
   "metadata": {},
   "outputs": [],
   "source": [
    "df=df.drop(columns=[\"Unnamed: 0\",\"Currency\",\"Minimum Installs\"])"
   ]
  },
  {
   "cell_type": "code",
   "execution_count": 5,
   "id": "209fd0b8-9321-4911-8e6f-c6bfd11a5a17",
   "metadata": {},
   "outputs": [
    {
     "data": {
      "text/plain": [
       "Index(['App Name', 'Category', 'Rating', 'Rating Count', 'Maximum Installs',\n",
       "       'Free', 'Price', 'Size', 'Minimum Android', 'Developer Id', 'Released',\n",
       "       'Last Updated', 'Content Rating', 'Ad Supported', 'In App Purchases',\n",
       "       'Editors Choice', 'Scraped Time', 'Year'],\n",
       "      dtype='object')"
      ]
     },
     "execution_count": 5,
     "metadata": {},
     "output_type": "execute_result"
    }
   ],
   "source": [
    "df.columns"
   ]
  },
  {
   "cell_type": "code",
   "execution_count": 6,
   "id": "af5de3d3-e90e-4584-b8fc-9a1cad417842",
   "metadata": {},
   "outputs": [],
   "source": [
    "df.rename(columns={\"Maximum Installs\": \"Installs\"}, inplace=True)"
   ]
  },
  {
   "cell_type": "code",
   "execution_count": 7,
   "id": "cecc6159-6d10-486a-86cc-d6fcd61d48b1",
   "metadata": {},
   "outputs": [
    {
     "data": {
      "text/plain": [
       "Index(['App Name', 'Category', 'Rating', 'Rating Count', 'Installs', 'Free',\n",
       "       'Price', 'Size', 'Minimum Android', 'Developer Id', 'Released',\n",
       "       'Last Updated', 'Content Rating', 'Ad Supported', 'In App Purchases',\n",
       "       'Editors Choice', 'Scraped Time', 'Year'],\n",
       "      dtype='object')"
      ]
     },
     "execution_count": 7,
     "metadata": {},
     "output_type": "execute_result"
    }
   ],
   "source": [
    "df.columns"
   ]
  },
  {
   "cell_type": "code",
   "execution_count": 8,
   "id": "ad2e4282-9a34-4dc5-9094-a81e9038deac",
   "metadata": {},
   "outputs": [
    {
     "data": {
      "text/plain": [
       "0          2020-02-26\n",
       "1          2020-05-21\n",
       "2          2019-08-09\n",
       "3          2018-09-10\n",
       "4          2020-02-21\n",
       "              ...    \n",
       "2190385    2018-05-22\n",
       "2190386    2018-01-17\n",
       "2190387    2018-08-19\n",
       "2190388    2016-08-01\n",
       "2190389    2019-08-09\n",
       "Name: Released, Length: 2190390, dtype: object"
      ]
     },
     "execution_count": 8,
     "metadata": {},
     "output_type": "execute_result"
    }
   ],
   "source": [
    "df.Released"
   ]
  },
  {
   "cell_type": "code",
   "execution_count": 9,
   "id": "1c752c0c-5638-49e0-8865-e4f689e02161",
   "metadata": {},
   "outputs": [
    {
     "data": {
      "text/plain": [
       "0          2021-06-15 20:19:35\n",
       "1          2021-06-15 20:19:35\n",
       "2          2021-06-15 20:19:35\n",
       "3          2021-06-15 20:19:35\n",
       "4          2021-06-15 20:19:35\n",
       "                  ...         \n",
       "2190385    2021-06-16 12:59:18\n",
       "2190386    2021-06-16 12:59:19\n",
       "2190387    2021-06-16 12:59:19\n",
       "2190388    2021-06-16 12:59:19\n",
       "2190389    2021-06-16 12:59:19\n",
       "Name: Scraped Time, Length: 2190390, dtype: object"
      ]
     },
     "execution_count": 9,
     "metadata": {},
     "output_type": "execute_result"
    }
   ],
   "source": [
    "df[\"Scraped Time\"]"
   ]
  },
  {
   "cell_type": "code",
   "execution_count": 10,
   "id": "3c5616d6-db66-4a01-936e-a5e1db36eb2a",
   "metadata": {},
   "outputs": [],
   "source": [
    "df[\"Scraped Time\"] = df[\"Scraped Time\"].str[:-9]"
   ]
  },
  {
   "cell_type": "code",
   "execution_count": 11,
   "id": "35fa2915-a3f0-4050-9b8a-b6aa1b7c31e5",
   "metadata": {},
   "outputs": [
    {
     "data": {
      "text/plain": [
       "0          2021-06-15\n",
       "1          2021-06-15\n",
       "2          2021-06-15\n",
       "3          2021-06-15\n",
       "4          2021-06-15\n",
       "              ...    \n",
       "2190385    2021-06-16\n",
       "2190386    2021-06-16\n",
       "2190387    2021-06-16\n",
       "2190388    2021-06-16\n",
       "2190389    2021-06-16\n",
       "Name: Scraped Time, Length: 2190390, dtype: object"
      ]
     },
     "execution_count": 11,
     "metadata": {},
     "output_type": "execute_result"
    }
   ],
   "source": [
    "df[\"Scraped Time\"]"
   ]
  },
  {
   "cell_type": "code",
   "execution_count": 12,
   "id": "89caa414-7b73-4e3f-905d-cdd293fa0796",
   "metadata": {},
   "outputs": [],
   "source": [
    "df[\"Scraped Time\"] = pd.to_datetime(df[\"Scraped Time\"])"
   ]
  },
  {
   "cell_type": "code",
   "execution_count": 13,
   "id": "56a09393-c411-47d6-94c2-34e098b4234d",
   "metadata": {},
   "outputs": [
    {
     "data": {
      "text/plain": [
       "0         2021-06-15\n",
       "1         2021-06-15\n",
       "2         2021-06-15\n",
       "3         2021-06-15\n",
       "4         2021-06-15\n",
       "             ...    \n",
       "2190385   2021-06-16\n",
       "2190386   2021-06-16\n",
       "2190387   2021-06-16\n",
       "2190388   2021-06-16\n",
       "2190389   2021-06-16\n",
       "Name: Scraped Time, Length: 2190390, dtype: datetime64[ns]"
      ]
     },
     "execution_count": 13,
     "metadata": {},
     "output_type": "execute_result"
    }
   ],
   "source": [
    "df[\"Scraped Time\"]"
   ]
  },
  {
   "cell_type": "code",
   "execution_count": 14,
   "id": "eb78a764-42b1-4db9-a45b-3eaaf8970be8",
   "metadata": {},
   "outputs": [
    {
     "data": {
      "text/plain": [
       "App Name                    object\n",
       "Category                    object\n",
       "Rating                     float64\n",
       "Rating Count               float64\n",
       "Installs                     int64\n",
       "Free                         int64\n",
       "Price                      float64\n",
       "Size                       float64\n",
       "Minimum Android             object\n",
       "Developer Id                object\n",
       "Released                    object\n",
       "Last Updated                object\n",
       "Content Rating              object\n",
       "Ad Supported                  bool\n",
       "In App Purchases              bool\n",
       "Editors Choice                bool\n",
       "Scraped Time        datetime64[ns]\n",
       "Year                         int64\n",
       "dtype: object"
      ]
     },
     "execution_count": 14,
     "metadata": {},
     "output_type": "execute_result"
    }
   ],
   "source": [
    "df.dtypes"
   ]
  },
  {
   "cell_type": "code",
   "execution_count": 15,
   "id": "60d3899a-4fb8-483f-9032-5afe15657a09",
   "metadata": {},
   "outputs": [],
   "source": [
    "df[\"Released\"]=pd.to_datetime(df[\"Released\"])"
   ]
  },
  {
   "cell_type": "code",
   "execution_count": 16,
   "id": "0bdd0476-f24b-42cf-83a6-489eb1a7f3c6",
   "metadata": {},
   "outputs": [
    {
     "data": {
      "text/plain": [
       "0          Feb 26, 2020\n",
       "1          May 06, 2021\n",
       "2          Aug 19, 2019\n",
       "3          Oct 13, 2018\n",
       "4          Nov 12, 2018\n",
       "               ...     \n",
       "2190385    Dec 14, 2018\n",
       "2190386    Feb 02, 2018\n",
       "2190387    Aug 19, 2018\n",
       "2190388    May 05, 2021\n",
       "2190389    Aug 19, 2019\n",
       "Name: Last Updated, Length: 2190390, dtype: object"
      ]
     },
     "execution_count": 16,
     "metadata": {},
     "output_type": "execute_result"
    }
   ],
   "source": [
    "df[\"Last Updated\"]"
   ]
  },
  {
   "cell_type": "code",
   "execution_count": 17,
   "id": "ea68a2d6-503d-491b-abd3-7a1a8c9c0254",
   "metadata": {},
   "outputs": [
    {
     "data": {
      "text/plain": [
       "App Name                    object\n",
       "Category                    object\n",
       "Rating                     float64\n",
       "Rating Count               float64\n",
       "Installs                     int64\n",
       "Free                         int64\n",
       "Price                      float64\n",
       "Size                       float64\n",
       "Minimum Android             object\n",
       "Developer Id                object\n",
       "Released            datetime64[ns]\n",
       "Last Updated                object\n",
       "Content Rating              object\n",
       "Ad Supported                  bool\n",
       "In App Purchases              bool\n",
       "Editors Choice                bool\n",
       "Scraped Time        datetime64[ns]\n",
       "Year                         int64\n",
       "dtype: object"
      ]
     },
     "execution_count": 17,
     "metadata": {},
     "output_type": "execute_result"
    }
   ],
   "source": [
    "df.dtypes"
   ]
  },
  {
   "cell_type": "code",
   "execution_count": 18,
   "id": "85081b67-0907-44a5-9dcf-5941aff03fb0",
   "metadata": {},
   "outputs": [],
   "source": [
    "my_df=df.copy()"
   ]
  },
  {
   "cell_type": "code",
   "execution_count": 19,
   "id": "3f8da1f7-c702-4a7b-804c-460b29bf6394",
   "metadata": {},
   "outputs": [
    {
     "name": "stdout",
     "output_type": "stream",
     "text": [
      "df\t my_df\t np\t pd\t plt\t sns\t \n"
     ]
    }
   ],
   "source": [
    "%who"
   ]
  },
  {
   "cell_type": "code",
   "execution_count": 20,
   "id": "c3f199ab-221f-48b0-81f2-4f109ab9f731",
   "metadata": {},
   "outputs": [
    {
     "data": {
      "text/plain": [
       "0          Feb 26, 2020\n",
       "1          May 06, 2021\n",
       "2          Aug 19, 2019\n",
       "3          Oct 13, 2018\n",
       "4          Nov 12, 2018\n",
       "               ...     \n",
       "2190385    Dec 14, 2018\n",
       "2190386    Feb 02, 2018\n",
       "2190387    Aug 19, 2018\n",
       "2190388    May 05, 2021\n",
       "2190389    Aug 19, 2019\n",
       "Name: Last Updated, Length: 2190390, dtype: object"
      ]
     },
     "execution_count": 20,
     "metadata": {},
     "output_type": "execute_result"
    }
   ],
   "source": [
    "my_df[\"Last Updated\"]"
   ]
  },
  {
   "cell_type": "code",
   "execution_count": 21,
   "id": "2457759c-a2a9-4d4c-bc59-3ce19c5674b0",
   "metadata": {},
   "outputs": [],
   "source": [
    "my_df[\"Last Updated\"] = pd.to_datetime(my_df[\"Last Updated\"], format=\"%b %d, %Y\", errors=\"coerce\")"
   ]
  },
  {
   "cell_type": "code",
   "execution_count": 22,
   "id": "181b5693-0267-4625-ad60-bba5186061e1",
   "metadata": {},
   "outputs": [
    {
     "data": {
      "text/plain": [
       "0         2020-02-26\n",
       "1         2021-05-06\n",
       "2         2019-08-19\n",
       "3         2018-10-13\n",
       "4         2018-11-12\n",
       "             ...    \n",
       "2190385   2018-12-14\n",
       "2190386   2018-02-02\n",
       "2190387   2018-08-19\n",
       "2190388   2021-05-05\n",
       "2190389   2019-08-19\n",
       "Name: Last Updated, Length: 2190390, dtype: datetime64[ns]"
      ]
     },
     "execution_count": 22,
     "metadata": {},
     "output_type": "execute_result"
    }
   ],
   "source": [
    "my_df[\"Last Updated\"]"
   ]
  },
  {
   "cell_type": "code",
   "execution_count": 23,
   "id": "128e1705-095f-4f30-a594-b23f0dbc6fcf",
   "metadata": {},
   "outputs": [
    {
     "data": {
      "text/plain": [
       "App Name                    object\n",
       "Category                    object\n",
       "Rating                     float64\n",
       "Rating Count               float64\n",
       "Installs                     int64\n",
       "Free                         int64\n",
       "Price                      float64\n",
       "Size                       float64\n",
       "Minimum Android             object\n",
       "Developer Id                object\n",
       "Released            datetime64[ns]\n",
       "Last Updated        datetime64[ns]\n",
       "Content Rating              object\n",
       "Ad Supported                  bool\n",
       "In App Purchases              bool\n",
       "Editors Choice                bool\n",
       "Scraped Time        datetime64[ns]\n",
       "Year                         int64\n",
       "dtype: object"
      ]
     },
     "execution_count": 23,
     "metadata": {},
     "output_type": "execute_result"
    }
   ],
   "source": [
    "my_df.dtypes"
   ]
  },
  {
   "cell_type": "code",
   "execution_count": 24,
   "id": "5265a335-223c-4169-929e-eb0588cf4a40",
   "metadata": {},
   "outputs": [
    {
     "data": {
      "text/plain": [
       "722134"
      ]
     },
     "execution_count": 24,
     "metadata": {},
     "output_type": "execute_result"
    }
   ],
   "source": [
    "my_df[\"Developer Id\"].nunique()"
   ]
  },
  {
   "cell_type": "code",
   "execution_count": 25,
   "id": "2f6e64d6-ed63-421b-9ffd-939f89855daf",
   "metadata": {},
   "outputs": [
    {
     "data": {
      "text/plain": [
       "array(['7.1', '5.0', '4.0.3', '4.1', '6.0', '4.4', '4.0', '4.2', '2.1',\n",
       "       '7.0', '2.2', '2.3', '4.3', '5.1', '1.6', '3.0', '8.0', '2.3.3',\n",
       "       '4.4W', 'Varies with device', '3.2', '1.5', '4.0.3 - 7.1.1', '3.1',\n",
       "       '2.0', '1.0', '1.1', '2.0.1', '4.4 - 6.0', '2.1 - 4.4',\n",
       "       '4.0 - 5.0', '2.0 - 2.3.4', '2.2 - 4.4', '4.1 - 7.0', '4.1 - 6.0',\n",
       "       '4.0 - 4.4W', '4.0 - 4.4', '4.0.3 - 7.0', '2.3 - 5.0',\n",
       "       '4.0 - 7.1.1', '4.1 - 7.1.1', '4.0 - 7.0', '4.1 - 8.0',\n",
       "       '4.0 - 6.0', '2.3 - 7.0', '4.0 - 8.0', '2.3 - 6.0', '2.1 - 2.3.4',\n",
       "       '3.0 - 4.1.1', '2.2 - 3.0', '2.0 - 8.0', '4.0.3 - 8.0',\n",
       "       '3.0 - 4.4W', '4.4 - 7.1.1', '4.4 - 8.0', '4.0.3 - 6.0',\n",
       "       '1.6 - 4.0.4', '2.3 - 5.1', '2.1 - 7.1.1', '2.3 - 4.4W',\n",
       "       '4.4 - 7.0', '6.0 - 7.1.1', '2.3 - 4.4', '2.2 - 4.0.4',\n",
       "       '2.1 - 4.1.1', '3.0 - 8.0', '3.0 - 5.1', '6.0 - 8.0', '5.0 - 8.0',\n",
       "       '4.1 - 5.1', '3.2 - 4.4', '2.1 - 5.0', '4.1 - 4.3', '5.0 - 6.0',\n",
       "       '5.1 - 7.1.1', '2.2 - 5.1', '4.1 - 5.0', '2.3.3 - 4.4',\n",
       "       '2.2 - 5.0', '4.1 - 4.4', '2.1 - 6.0', '4.2 - 7.1.1', '2.1 - 5.1',\n",
       "       '1.6 - 4.4W', '4.3 - 4.4W', '3.0 - 4.4', '2.1 - 3.1',\n",
       "       '2.3 - 7.1.1', '1.6 - 4.0.2', '4.0 - 4.0.4', '4.2 - 4.4W',\n",
       "       '3.0 - 7.1.1', '3.2 - 7.1.1', '3.0 - 6.0', '2.2 - 4.4W',\n",
       "       '4.0.3 - 4.4', '4.0.3 - 5.1', '1.1 - 4.4', '2.3.3 - 5.0',\n",
       "       '2.2 - 6.0', '3.0 - 5.0', '2.3.3 - 2.3.4', '2.2 - 3.2',\n",
       "       '5.0 - 7.1.1', '2.1 - 3.2', '4.2 - 4.2.2', '2.3.3 - 5.1',\n",
       "       '2.2 - 4.1.1', '1.6 - 4.4', '4.2 - 4.3', '4.0 - 5.1', '1.6 - 7.0',\n",
       "       '3.0 - 7.0', '1.0 - 6.0', '2.3.3 - 4.0.4', '2.3 - 3.2',\n",
       "       '4.3 - 8.0', '2.3 - 8.0', '3.2 - 6.0', '2.3.3 - 7.1.1',\n",
       "       '4.2 - 8.0', '2.2 - 4.3', '3.2 - 4.1.1', '2.3 - 4.1.1',\n",
       "       '2.1 - 4.4W', '2.3.3 - 4.4W', '1.6 - 7.1.1', '2.2 - 4.2.2',\n",
       "       '4.3 - 5.1', '4.0.3 - 4.2.2', '4.3 - 4.4', '4.2 - 6.0',\n",
       "       '4.4 - 4.4W', '1.5 - 2.1', '2.3 - 4.0.2', '3.2 - 5.1', '3.0 - 3.2',\n",
       "       '1.6 - 4.2.2', '1.5 - 3.2', '2.2 - 8.0', '1.6 - 2.1',\n",
       "       '2.3.3 - 6.0'], dtype=object)"
      ]
     },
     "execution_count": 25,
     "metadata": {},
     "output_type": "execute_result"
    }
   ],
   "source": [
    "my_df[\"Minimum Android\"].unique()"
   ]
  },
  {
   "cell_type": "code",
   "execution_count": 28,
   "id": "a090b496-2b54-470c-8eda-7a468b6d4b5a",
   "metadata": {},
   "outputs": [
    {
     "data": {
      "text/plain": [
       "array(['Everyone', 'Teen', 'Mature 17+', 'Everyone 10+',\n",
       "       'Adults only 18+', 'Unrated'], dtype=object)"
      ]
     },
     "execution_count": 28,
     "metadata": {},
     "output_type": "execute_result"
    }
   ],
   "source": [
    "my_df[\"Content Rating\"].unique()"
   ]
  },
  {
   "cell_type": "code",
   "execution_count": 29,
   "id": "f4f042dd-4905-496b-b95a-5d7f0cf39626",
   "metadata": {},
   "outputs": [
    {
     "name": "stdout",
     "output_type": "stream",
     "text": [
      "df\t my_df\t np\t pd\t plt\t sns\t \n"
     ]
    }
   ],
   "source": [
    "%who"
   ]
  },
  {
   "cell_type": "code",
   "execution_count": 30,
   "id": "38fc6bbf-572d-4eec-a8c6-f65b7d698352",
   "metadata": {},
   "outputs": [],
   "source": [
    "data=my_df.copy()"
   ]
  },
  {
   "cell_type": "code",
   "execution_count": 32,
   "id": "296cc852-f654-413e-ba88-23a6d4006e85",
   "metadata": {},
   "outputs": [
    {
     "ename": "NameError",
     "evalue": "name 'df' is not defined",
     "output_type": "error",
     "traceback": [
      "\u001b[1;31m---------------------------------------------------------------------------\u001b[0m",
      "\u001b[1;31mNameError\u001b[0m                                 Traceback (most recent call last)",
      "Cell \u001b[1;32mIn[32], line 2\u001b[0m\n\u001b[0;32m      1\u001b[0m \u001b[38;5;28;01mimport\u001b[39;00m \u001b[38;5;21;01mgc\u001b[39;00m \n\u001b[1;32m----> 2\u001b[0m \u001b[38;5;28;01mdel\u001b[39;00m \u001b[43mdf\u001b[49m \n\u001b[0;32m      3\u001b[0m gc()\n",
      "\u001b[1;31mNameError\u001b[0m: name 'df' is not defined"
     ]
    }
   ],
   "source": [
    "import gc \n",
    "del df \n"
   ]
  },
  {
   "cell_type": "code",
   "execution_count": 33,
   "id": "683dc3d6-2f34-4de5-af4d-b7c2c9dd4499",
   "metadata": {},
   "outputs": [
    {
     "name": "stdout",
     "output_type": "stream",
     "text": [
      "data\t gc\t my_df\t np\t pd\t plt\t sns\t \n"
     ]
    }
   ],
   "source": [
    "%who\n"
   ]
  },
  {
   "cell_type": "code",
   "execution_count": 35,
   "id": "3f62b85f-e3af-47d7-bd98-25370d5f490e",
   "metadata": {},
   "outputs": [
    {
     "data": {
      "text/plain": [
       "0          475 days\n",
       "1          390 days\n",
       "2          676 days\n",
       "3         1009 days\n",
       "4          480 days\n",
       "             ...   \n",
       "2190385   1121 days\n",
       "2190386   1246 days\n",
       "2190387   1032 days\n",
       "2190388   1780 days\n",
       "2190389    677 days\n",
       "Name: Age, Length: 2190390, dtype: timedelta64[ns]"
      ]
     },
     "execution_count": 35,
     "metadata": {},
     "output_type": "execute_result"
    }
   ],
   "source": [
    "data['Age'] = my_df['Scraped Time'] - my_df['Released']\n",
    "data.Age"
   ]
  },
  {
   "cell_type": "code",
   "execution_count": 37,
   "id": "de13ce20-1806-4ee6-b9fc-84042224ed88",
   "metadata": {},
   "outputs": [
    {
     "data": {
      "text/plain": [
       "Index(['App Name', 'Category', 'Rating', 'Rating Count', 'Installs', 'Free',\n",
       "       'Price', 'Size', 'Minimum Android', 'Developer Id', 'Released',\n",
       "       'Last Updated', 'Content Rating', 'Ad Supported', 'In App Purchases',\n",
       "       'Editors Choice', 'Scraped Time', 'Year', 'Age'],\n",
       "      dtype='object')"
      ]
     },
     "execution_count": 37,
     "metadata": {},
     "output_type": "execute_result"
    }
   ],
   "source": [
    "data.columns"
   ]
  },
  {
   "cell_type": "code",
   "execution_count": 39,
   "id": "8a523b0d-f4ed-4a2e-b196-99497b00a575",
   "metadata": {},
   "outputs": [
    {
     "data": {
      "text/plain": [
       "Index(['App Name', 'Category', 'Rating', 'Rating Count', 'Installs', 'Free',\n",
       "       'Price', 'Size', 'Minimum Android', 'Developer Id', 'Last Updated',\n",
       "       'Content Rating', 'Ad Supported', 'In App Purchases', 'Editors Choice',\n",
       "       'Year', 'Age'],\n",
       "      dtype='object')"
      ]
     },
     "execution_count": 39,
     "metadata": {},
     "output_type": "execute_result"
    }
   ],
   "source": [
    "data=data.drop(columns=[\"Scraped Time\",\"Released\"])\n",
    "data.columns"
   ]
  },
  {
   "cell_type": "code",
   "execution_count": 40,
   "id": "02dc011c-b33f-4430-84c9-fae92987a6b4",
   "metadata": {},
   "outputs": [
    {
     "data": {
      "text/plain": [
       "17"
      ]
     },
     "execution_count": 40,
     "metadata": {},
     "output_type": "execute_result"
    }
   ],
   "source": [
    "len(data.columns)"
   ]
  },
  {
   "cell_type": "code",
   "execution_count": null,
   "id": "5c661e9a-9d0a-4fdb-b025-37e9acccce48",
   "metadata": {},
   "outputs": [],
   "source": []
  }
 ],
 "metadata": {
  "kernelspec": {
   "display_name": "Python 3 (ipykernel)",
   "language": "python",
   "name": "python3"
  },
  "language_info": {
   "codemirror_mode": {
    "name": "ipython",
    "version": 3
   },
   "file_extension": ".py",
   "mimetype": "text/x-python",
   "name": "python",
   "nbconvert_exporter": "python",
   "pygments_lexer": "ipython3",
   "version": "3.13.0"
  }
 },
 "nbformat": 4,
 "nbformat_minor": 5
}
