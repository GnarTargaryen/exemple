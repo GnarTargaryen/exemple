{
 "cells": [
  {
   "cell_type": "code",
   "execution_count": 1,
   "id": "33050cda-0b63-46e7-b1ee-b27b15f81c23",
   "metadata": {},
   "outputs": [],
   "source": [
    "import pandas as pd \n",
    "import numpy as np"
   ]
  },
  {
   "cell_type": "code",
   "execution_count": 2,
   "id": "1803e9b2-97ec-4642-bbc9-aaa6212f9ee5",
   "metadata": {},
   "outputs": [],
   "source": [
    "oussema_df=pd.read_csv(\"Google-Playstore.csv\")\n"
   ]
  },
  {
   "cell_type": "code",
   "execution_count": 3,
   "id": "27066f7c-64b3-4aa9-b0ae-704dd08c3c87",
   "metadata": {},
   "outputs": [
    {
     "name": "stdout",
     "output_type": "stream",
     "text": [
      "Index(['App Name', 'App Id', 'Category', 'Rating', 'Rating Count', 'Installs',\n",
      "       'Minimum Installs', 'Maximum Installs', 'Free', 'Price', 'Currency',\n",
      "       'Size', 'Minimum Android', 'Developer Id', 'Developer Website',\n",
      "       'Developer Email', 'Released', 'Last Updated', 'Content Rating',\n",
      "       'Privacy Policy', 'Ad Supported', 'In App Purchases', 'Editors Choice',\n",
      "       'Scraped Time'],\n",
      "      dtype='object')\n",
      "(2312944, 24)\n"
     ]
    }
   ],
   "source": [
    "print(oussema_df.columns)\n",
    "print(oussema_df.shape)\n"
   ]
  },
  {
   "cell_type": "code",
   "execution_count": 4,
   "id": "974bfde5-77a8-4f29-8bdf-01ba62799bb6",
   "metadata": {},
   "outputs": [
    {
     "data": {
      "text/plain": [
       "Index(['App Name', 'Category', 'Rating', 'Rating Count', 'Minimum Installs',\n",
       "       'Maximum Installs', 'Free', 'Price', 'Currency', 'Size',\n",
       "       'Minimum Android', 'Developer Id', 'Released', 'Last Updated',\n",
       "       'Content Rating', 'Ad Supported', 'In App Purchases', 'Editors Choice',\n",
       "       'Scraped Time'],\n",
       "      dtype='object')"
      ]
     },
     "execution_count": 4,
     "metadata": {},
     "output_type": "execute_result"
    }
   ],
   "source": [
    "oussema_dropped=oussema_df.drop(columns=[\"App Id\", \"Installs\",\"Developer Website\",\"Privacy Policy\",\"Developer Email\"])\n",
    "oussema_dropped.columns"
   ]
  },
  {
   "cell_type": "code",
   "execution_count": 5,
   "id": "2904440c-2d4e-49aa-8373-486ed9e2968a",
   "metadata": {},
   "outputs": [
    {
     "name": "stdout",
     "output_type": "stream",
     "text": [
      "App Name                5\n",
      "Category                0\n",
      "Rating              22883\n",
      "Rating Count        22883\n",
      "Minimum Installs      107\n",
      "Maximum Installs        0\n",
      "Free                    0\n",
      "Price                   0\n",
      "Currency              135\n",
      "Size                  196\n",
      "Minimum Android      6530\n",
      "Developer Id           33\n",
      "Released            71053\n",
      "Last Updated            0\n",
      "Content Rating          0\n",
      "Ad Supported            0\n",
      "In App Purchases        0\n",
      "Editors Choice          0\n",
      "Scraped Time            0\n",
      "dtype: int64\n"
     ]
    }
   ],
   "source": [
    "print(oussema_dropped.isnull().sum())"
   ]
  },
  {
   "cell_type": "code",
   "execution_count": 6,
   "id": "a6aaa286-c64d-4a4d-8afd-b16fd0fdff4f",
   "metadata": {},
   "outputs": [
    {
     "data": {
      "text/plain": [
       "array([0.])"
      ]
     },
     "execution_count": 6,
     "metadata": {},
     "output_type": "execute_result"
    }
   ],
   "source": [
    "oussema_dropped[\"Price\"][oussema_dropped[\"Currency\"].isnull()].unique()"
   ]
  },
  {
   "cell_type": "code",
   "execution_count": 7,
   "id": "9f7613f3-6e25-4275-abb5-61789b8f7de0",
   "metadata": {},
   "outputs": [
    {
     "data": {
      "text/plain": [
       "0"
      ]
     },
     "execution_count": 7,
     "metadata": {},
     "output_type": "execute_result"
    }
   ],
   "source": [
    "s=oussema_dropped[\"App Name\"].isnull()\n",
    "s[s==True].index\n",
    "oussema_cleaned_app_name=oussema_dropped.drop(s[s==True].index, axis=0)\n",
    "oussema_cleaned_app_name[\"App Name\"].isnull().sum()"
   ]
  },
  {
   "cell_type": "code",
   "execution_count": 8,
   "id": "fe77a5c1-b681-4371-897d-39725fd4a5e1",
   "metadata": {},
   "outputs": [
    {
     "name": "stdout",
     "output_type": "stream",
     "text": [
      "[0.0, 1.0, 5.0, 10.0, 50.0, 100.0, 500.0, 1000.0, 5000.0, 10000.0, 50000.0, 100000.0, 500000.0, 1000000.0, 5000000.0, 10000000.0, 50000000.0, 100000000.0, nan, 500000000.0, 1000000000.0, 5000000000.0, 10000000000.0]\n"
     ]
    }
   ],
   "source": [
    "l=oussema_df.loc[:,\"Minimum Installs\"].unique().astype(float).tolist()\n",
    "\n",
    "l.sort()\n",
    "print(l)"
   ]
  },
  {
   "cell_type": "code",
   "execution_count": 9,
   "id": "1737cd13-f1c1-4c40-8f17-31ba36efb528",
   "metadata": {},
   "outputs": [
    {
     "name": "stdout",
     "output_type": "stream",
     "text": [
      "[0.0, 1.0, 5.0, 10.0, 50.0, 100.0, 500.0, 1000.0, 5000.0, 10000.0, 50000.0, 100000.0, 500000.0, 1000000.0, 5000000.0, 10000000.0, 50000000.0, 100000000.0, 500000000.0, 1000000000.0, 5000000000.0, 10000000000.0]\n"
     ]
    }
   ],
   "source": [
    "l.remove(l[18])\n",
    "print(l)\n",
    "\n"
   ]
  },
  {
   "cell_type": "code",
   "execution_count": 10,
   "id": "c33709b4-3438-48ff-8247-5f409fdcf71d",
   "metadata": {},
   "outputs": [],
   "source": [
    "x=oussema_dropped[\"Maximum Installs\"][oussema_dropped[\"Minimum Installs\"].isnull()==True]\n",
    "c=x[x==0].index\n"
   ]
  },
  {
   "cell_type": "code",
   "execution_count": 11,
   "id": "de3cff6e-a077-466b-ac7b-c64edba7a07b",
   "metadata": {},
   "outputs": [
    {
     "name": "stdout",
     "output_type": "stream",
     "text": [
      "         Minimum Installs\n",
      "64322                 0.0\n",
      "98053                 0.0\n",
      "148212                0.0\n",
      "157037                0.0\n",
      "159084                0.0\n",
      "269748                0.0\n",
      "326450                0.0\n",
      "354378                0.0\n",
      "367097                0.0\n",
      "389418                0.0\n",
      "497176                0.0\n",
      "522636                0.0\n",
      "681921                0.0\n",
      "858085                0.0\n",
      "1214628               0.0\n",
      "1266688               0.0\n",
      "1583223               0.0\n",
      "1860821               0.0\n",
      "1920390               0.0\n",
      "1979312               0.0\n",
      "2031518               0.0\n",
      "2032319               0.0\n",
      "2161180               0.0\n"
     ]
    }
   ],
   "source": [
    "oussema_dropped.loc[c, \"Minimum Installs\"] = 0 \n",
    "print(oussema_dropped.loc[c, [\"Minimum Installs\"]])\n"
   ]
  },
  {
   "cell_type": "code",
   "execution_count": 12,
   "id": "4b4ddb82-d9e5-4737-9088-ebc91f6dc492",
   "metadata": {},
   "outputs": [
    {
     "name": "stdout",
     "output_type": "stream",
     "text": [
      "         Minimum Installs\n",
      "249798                1.0\n",
      "1073673               1.0\n",
      "1137961               1.0\n",
      "1265635               1.0\n",
      "1293991               1.0\n",
      "1321518               1.0\n",
      "1329607               1.0\n",
      "1518768               1.0\n",
      "1878259               1.0\n",
      "2147123               1.0\n",
      "2149378               1.0\n"
     ]
    }
   ],
   "source": [
    "m=x[x==1].index\n",
    "oussema_dropped.loc[m, \"Minimum Installs\"] = 1\n",
    "print(oussema_dropped.loc[m, [\"Minimum Installs\"]])\n"
   ]
  },
  {
   "cell_type": "code",
   "execution_count": 13,
   "id": "7b67bd7f-98c7-47df-b5be-aac537f8aea6",
   "metadata": {},
   "outputs": [
    {
     "name": "stdout",
     "output_type": "stream",
     "text": [
      "[1.0, 5.0, 10.0, 50.0, 100.0, 500.0, 1000.0, 5000.0, 10000.0, 50000.0, 100000.0, 500000.0, 1000000.0, 5000000.0, 10000000.0, 50000000.0, 100000000.0, 500000000.0, 1000000000.0, 5000000000.0, 10000000000.0]\n"
     ]
    }
   ],
   "source": [
    "k=l[1:]\n",
    "print(k)"
   ]
  },
  {
   "cell_type": "code",
   "execution_count": 14,
   "id": "5ca7cc32-896f-4b7f-8319-6e918192b4bd",
   "metadata": {},
   "outputs": [],
   "source": [
    "for i in range(len(k) - 1):\n",
    "    oussema_dropped.loc[x[(x >= k[i]) & (x < k[i+1]) & (x < 10000000001)].index, \"Minimum Installs\"] = k[i]\n",
    "\n",
    "oussema_dropped.loc[x[x >= 10000000000].index, \"Minimum Installs\"] = 10000000000\n"
   ]
  },
  {
   "cell_type": "code",
   "execution_count": 15,
   "id": "ddbd6ebb-4c96-4191-b0b8-f9b69c958b52",
   "metadata": {},
   "outputs": [
    {
     "name": "stdout",
     "output_type": "stream",
     "text": [
      "         Maximum Installs  Minimum Installs\n",
      "5622                 1023            1000.0\n",
      "43569               72087           50000.0\n",
      "60888                   2               1.0\n",
      "64322                   0               0.0\n",
      "91391                   2               1.0\n",
      "...                   ...               ...\n",
      "2161180                 0               0.0\n",
      "2170210              5178            5000.0\n",
      "2205663              3238            1000.0\n",
      "2212570             13653           10000.0\n",
      "2311821            292415          100000.0\n",
      "\n",
      "[107 rows x 2 columns]\n"
     ]
    }
   ],
   "source": [
    "print(oussema_dropped.loc[x.index,[\"Maximum Installs\",\"Minimum Installs\"]])"
   ]
  },
  {
   "cell_type": "code",
   "execution_count": 16,
   "id": "b9c6612f-7880-4d74-8eb3-befd486de6e5",
   "metadata": {},
   "outputs": [
    {
     "name": "stdout",
     "output_type": "stream",
     "text": [
      "App Name                5\n",
      "Category                0\n",
      "Rating              22883\n",
      "Rating Count        22883\n",
      "Minimum Installs        0\n",
      "Maximum Installs        0\n",
      "Free                    0\n",
      "Price                   0\n",
      "Currency              135\n",
      "Size                  196\n",
      "Minimum Android      6530\n",
      "Developer Id           33\n",
      "Released            71053\n",
      "Last Updated            0\n",
      "Content Rating          0\n",
      "Ad Supported            0\n",
      "In App Purchases        0\n",
      "Editors Choice          0\n",
      "Scraped Time            0\n",
      "dtype: int64\n"
     ]
    }
   ],
   "source": [
    "print(oussema_dropped.isnull().sum())"
   ]
  },
  {
   "cell_type": "code",
   "execution_count": 17,
   "id": "dba15628-aa2f-4140-b0a0-01cb1e30d669",
   "metadata": {},
   "outputs": [],
   "source": [
    "oussema_new = oussema_dropped.drop(s[s == True].index, axis=0).reset_index(drop=True)\n",
    "\n"
   ]
  },
  {
   "cell_type": "code",
   "execution_count": 18,
   "id": "2a739f43-7282-441b-b90a-e7c48048c3fc",
   "metadata": {},
   "outputs": [
    {
     "name": "stdout",
     "output_type": "stream",
     "text": [
      "App Name                0\n",
      "Category                0\n",
      "Rating              22883\n",
      "Rating Count        22883\n",
      "Minimum Installs        0\n",
      "Maximum Installs        0\n",
      "Free                    0\n",
      "Price                   0\n",
      "Currency              135\n",
      "Size                  196\n",
      "Minimum Android      6530\n",
      "Developer Id           33\n",
      "Released            71053\n",
      "Last Updated            0\n",
      "Content Rating          0\n",
      "Ad Supported            0\n",
      "In App Purchases        0\n",
      "Editors Choice          0\n",
      "Scraped Time            0\n",
      "dtype: int64\n"
     ]
    }
   ],
   "source": [
    "print(oussema_new.isnull().sum())"
   ]
  },
  {
   "cell_type": "code",
   "execution_count": 19,
   "id": "1da6381a-074f-4edc-b49e-6b03e8c652b5",
   "metadata": {},
   "outputs": [
    {
     "name": "stdout",
     "output_type": "stream",
     "text": [
      "Index([   5622,   43569,   60887,   64321,   71020,   91390,   97326,   98052,\n",
      "        122977,  123355,\n",
      "       ...\n",
      "       2055152, 2143209, 2145845, 2147118, 2149373, 2161175, 2170205, 2205658,\n",
      "       2212565, 2311816],\n",
      "      dtype='int64', length=135)\n"
     ]
    }
   ],
   "source": [
    "oussema_cur=oussema_new.copy()[\"Currency\"]\n",
    "n=oussema_cur[oussema_cur.isnull()==True].index\n",
    "print(n)"
   ]
  },
  {
   "cell_type": "code",
   "execution_count": 20,
   "id": "931d8042-7656-43a9-89ee-bfb9f2867982",
   "metadata": {},
   "outputs": [
    {
     "data": {
      "text/html": [
       "<div>\n",
       "<style scoped>\n",
       "    .dataframe tbody tr th:only-of-type {\n",
       "        vertical-align: middle;\n",
       "    }\n",
       "\n",
       "    .dataframe tbody tr th {\n",
       "        vertical-align: top;\n",
       "    }\n",
       "\n",
       "    .dataframe thead th {\n",
       "        text-align: right;\n",
       "    }\n",
       "</style>\n",
       "<table border=\"1\" class=\"dataframe\">\n",
       "  <thead>\n",
       "    <tr style=\"text-align: right;\">\n",
       "      <th></th>\n",
       "      <th>Currency</th>\n",
       "      <th>Free</th>\n",
       "      <th>Price</th>\n",
       "    </tr>\n",
       "  </thead>\n",
       "  <tbody>\n",
       "    <tr>\n",
       "      <th>5622</th>\n",
       "      <td>NaN</td>\n",
       "      <td>False</td>\n",
       "      <td>0.0</td>\n",
       "    </tr>\n",
       "    <tr>\n",
       "      <th>43569</th>\n",
       "      <td>NaN</td>\n",
       "      <td>False</td>\n",
       "      <td>0.0</td>\n",
       "    </tr>\n",
       "    <tr>\n",
       "      <th>60887</th>\n",
       "      <td>NaN</td>\n",
       "      <td>False</td>\n",
       "      <td>0.0</td>\n",
       "    </tr>\n",
       "    <tr>\n",
       "      <th>64321</th>\n",
       "      <td>NaN</td>\n",
       "      <td>False</td>\n",
       "      <td>0.0</td>\n",
       "    </tr>\n",
       "    <tr>\n",
       "      <th>71020</th>\n",
       "      <td>NaN</td>\n",
       "      <td>False</td>\n",
       "      <td>0.0</td>\n",
       "    </tr>\n",
       "    <tr>\n",
       "      <th>...</th>\n",
       "      <td>...</td>\n",
       "      <td>...</td>\n",
       "      <td>...</td>\n",
       "    </tr>\n",
       "    <tr>\n",
       "      <th>2161175</th>\n",
       "      <td>NaN</td>\n",
       "      <td>False</td>\n",
       "      <td>0.0</td>\n",
       "    </tr>\n",
       "    <tr>\n",
       "      <th>2170205</th>\n",
       "      <td>NaN</td>\n",
       "      <td>False</td>\n",
       "      <td>0.0</td>\n",
       "    </tr>\n",
       "    <tr>\n",
       "      <th>2205658</th>\n",
       "      <td>NaN</td>\n",
       "      <td>False</td>\n",
       "      <td>0.0</td>\n",
       "    </tr>\n",
       "    <tr>\n",
       "      <th>2212565</th>\n",
       "      <td>NaN</td>\n",
       "      <td>False</td>\n",
       "      <td>0.0</td>\n",
       "    </tr>\n",
       "    <tr>\n",
       "      <th>2311816</th>\n",
       "      <td>NaN</td>\n",
       "      <td>False</td>\n",
       "      <td>0.0</td>\n",
       "    </tr>\n",
       "  </tbody>\n",
       "</table>\n",
       "<p>135 rows × 3 columns</p>\n",
       "</div>"
      ],
      "text/plain": [
       "        Currency   Free  Price\n",
       "5622         NaN  False    0.0\n",
       "43569        NaN  False    0.0\n",
       "60887        NaN  False    0.0\n",
       "64321        NaN  False    0.0\n",
       "71020        NaN  False    0.0\n",
       "...          ...    ...    ...\n",
       "2161175      NaN  False    0.0\n",
       "2170205      NaN  False    0.0\n",
       "2205658      NaN  False    0.0\n",
       "2212565      NaN  False    0.0\n",
       "2311816      NaN  False    0.0\n",
       "\n",
       "[135 rows x 3 columns]"
      ]
     },
     "execution_count": 20,
     "metadata": {},
     "output_type": "execute_result"
    }
   ],
   "source": [
    "oussema_new.loc[n,[\"Currency\",\"Free\",\"Price\"]]"
   ]
  },
  {
   "cell_type": "code",
   "execution_count": 21,
   "id": "a22a1138-5db1-4856-aea6-afa4d962fad4",
   "metadata": {},
   "outputs": [
    {
     "name": "stdout",
     "output_type": "stream",
     "text": [
      "App Name                0\n",
      "Category                0\n",
      "Rating              22768\n",
      "Rating Count        22768\n",
      "Minimum Installs        0\n",
      "Maximum Installs        0\n",
      "Free                    0\n",
      "Price                   0\n",
      "Currency                0\n",
      "Size                  195\n",
      "Minimum Android      6530\n",
      "Developer Id           33\n",
      "Released            70951\n",
      "Last Updated            0\n",
      "Content Rating          0\n",
      "Ad Supported            0\n",
      "In App Purchases        0\n",
      "Editors Choice          0\n",
      "Scraped Time            0\n",
      "dtype: int64\n"
     ]
    }
   ],
   "source": [
    "oussema_cleaned= oussema_new.drop(index=n, axis=0).reset_index(drop=True)\n",
    "print(oussema_cleaned.isnull().sum())"
   ]
  },
  {
   "cell_type": "code",
   "execution_count": 22,
   "id": "c696f5a4-6a34-4fee-be63-17dd7fa9f734",
   "metadata": {},
   "outputs": [],
   "source": [
    "oussema_size=oussema_cleaned.copy()\n"
   ]
  },
  {
   "cell_type": "code",
   "execution_count": 23,
   "id": "2dd02868-a02c-4e7b-b2df-bbb6fbe6c5d8",
   "metadata": {},
   "outputs": [
    {
     "name": "stdout",
     "output_type": "stream",
     "text": [
      "0.008431324055129617\n"
     ]
    }
   ],
   "source": [
    "m=oussema_size[\"Size\"][oussema_size[\"Size\"].isnull()==True].index\n",
    "print((len(m)/oussema_size.shape[0])*100)\n",
    "#Can be dropped"
   ]
  },
  {
   "cell_type": "code",
   "execution_count": null,
   "id": "a284006f-968a-4581-af44-ce9726c30eef",
   "metadata": {},
   "outputs": [],
   "source": []
  },
  {
   "cell_type": "code",
   "execution_count": 24,
   "id": "6f13414d-81a9-4921-a0ac-a2e41f307e33",
   "metadata": {},
   "outputs": [
    {
     "name": "stdout",
     "output_type": "stream",
     "text": [
      "App Name                0\n",
      "Category                0\n",
      "Rating              22573\n",
      "Rating Count        22573\n",
      "Minimum Installs        0\n",
      "Maximum Installs        0\n",
      "Free                    0\n",
      "Price                   0\n",
      "Currency                0\n",
      "Size                    0\n",
      "Minimum Android      6530\n",
      "Developer Id           33\n",
      "Released            70756\n",
      "Last Updated            0\n",
      "Content Rating          0\n",
      "Ad Supported            0\n",
      "In App Purchases        0\n",
      "Editors Choice          0\n",
      "Scraped Time            0\n",
      "dtype: int64\n"
     ]
    }
   ],
   "source": [
    "oussema_cleaned=oussema_size.drop(index=m, axis=0).reset_index(drop=True)\n",
    "print(oussema_cleaned.isnull().sum())\n"
   ]
  },
  {
   "cell_type": "code",
   "execution_count": 25,
   "id": "1992d20e-58ca-471b-a28f-231c399c41ac",
   "metadata": {},
   "outputs": [
    {
     "data": {
      "text/plain": [
       "array(['M', 'k', 'e', 'G'], dtype=object)"
      ]
     },
     "execution_count": 25,
     "metadata": {},
     "output_type": "execute_result"
    }
   ],
   "source": [
    "oussema_cleaned[\"Size\"].str[-1].unique()"
   ]
  },
  {
   "cell_type": "code",
   "execution_count": 26,
   "id": "78888468-9216-4129-a71f-ef3b3bca6596",
   "metadata": {},
   "outputs": [
    {
     "data": {
      "text/plain": [
       "3.230377465451358"
      ]
     },
     "execution_count": 26,
     "metadata": {},
     "output_type": "execute_result"
    }
   ],
   "source": [
    "a=oussema_cleaned[\"Size\"][oussema_cleaned[\"Size\"].str[-1]==\"e\"].index\n",
    "(len(a)*100)/oussema_cleaned.shape[0]"
   ]
  },
  {
   "cell_type": "code",
   "execution_count": 27,
   "id": "545771a1-9f47-4142-bfd1-6ffd7c6309f2",
   "metadata": {},
   "outputs": [],
   "source": [
    "oussema_cleaned_size=oussema_cleaned.copy()"
   ]
  },
  {
   "cell_type": "code",
   "execution_count": 28,
   "id": "7a2e2a1b-55af-49e7-894a-baa292904844",
   "metadata": {},
   "outputs": [],
   "source": [
    "oussema_cleaned_size=oussema_cleaned_size.drop(index=a,axis=0).reset_index(drop=True)"
   ]
  },
  {
   "cell_type": "code",
   "execution_count": 29,
   "id": "f35c49db-462c-4dd9-9df9-b3d1bf0a3afc",
   "metadata": {},
   "outputs": [],
   "source": [
    "k=oussema_cleaned_size[\"Size\"][oussema_cleaned_size[\"Size\"].str[-1]==\"k\"].index\n",
    "G=oussema_cleaned_size[\"Size\"][oussema_cleaned_size[\"Size\"].str[-1]==\"G\"].index"
   ]
  },
  {
   "cell_type": "code",
   "execution_count": 30,
   "id": "0163a1ac-4af1-4e58-9067-23f9a6405408",
   "metadata": {},
   "outputs": [],
   "source": [
    "oussema_cleaned_size['Size'] = oussema_cleaned_size['Size'].str[:-1]"
   ]
  },
  {
   "cell_type": "code",
   "execution_count": 31,
   "id": "9497093c-ae54-469b-8716-31c813af34f4",
   "metadata": {},
   "outputs": [
    {
     "name": "stdout",
     "output_type": "stream",
     "text": [
      "0     10\n",
      "1    2.9\n",
      "2    3.7\n",
      "3    1.8\n",
      "4    6.2\n",
      "Name: Size, dtype: object\n"
     ]
    }
   ],
   "source": [
    "print(oussema_cleaned_size[\"Size\"].head())\n"
   ]
  },
  {
   "cell_type": "code",
   "execution_count": 32,
   "id": "7206e4ad-68bb-42f6-99cb-21ad5a098485",
   "metadata": {},
   "outputs": [],
   "source": [
    "oussema_cleaned_size[\"Size\"] = oussema_cleaned_size[\"Size\"].replace(\",\", \"\", regex=True)"
   ]
  },
  {
   "cell_type": "code",
   "execution_count": 33,
   "id": "2ad5bf06-1132-411e-8a0a-7e57f6304d3d",
   "metadata": {},
   "outputs": [],
   "source": [
    "oussema_cleaned_size['Size'] =oussema_cleaned_size['Size'].astype(float)"
   ]
  },
  {
   "cell_type": "code",
   "execution_count": 34,
   "id": "9585af3a-0d45-4a3f-9150-7f27d063e17c",
   "metadata": {},
   "outputs": [],
   "source": [
    "oussema_cleaned_size.loc[k,\"Size\"]=oussema_cleaned_size.loc[k,\"Size\"]/1024\n",
    "oussema_cleaned_size.loc[G,\"Size\"]=oussema_cleaned_size.loc[G,\"Size\"]*1024"
   ]
  },
  {
   "cell_type": "code",
   "execution_count": 35,
   "id": "aa633848-2870-4f4b-bcaf-a1a36c472382",
   "metadata": {},
   "outputs": [
    {
     "name": "stdout",
     "output_type": "stream",
     "text": [
      "90252      1536.0\n",
      "284198     1126.4\n",
      "464543     1024.0\n",
      "496768     1126.4\n",
      "512729     1536.0\n",
      "657611     1126.4\n",
      "919842     1126.4\n",
      "932969     1126.4\n",
      "1024817    1126.4\n",
      "1596949    1126.4\n",
      "2007555    1024.0\n",
      "2054970    1126.4\n",
      "2225726    1024.0\n",
      "Name: Size, dtype: float64\n",
      "93175      1.5G\n",
      "293625     1.1G\n",
      "479954     1.0G\n",
      "513216     1.1G\n",
      "529736     1.5G\n",
      "679447     1.1G\n",
      "950479     1.1G\n",
      "964066     1.1G\n",
      "1059080    1.1G\n",
      "1650399    1.1G\n",
      "2074779    1.0G\n",
      "2123758    1.1G\n",
      "2300318    1.0G\n",
      "Name: Size, dtype: object\n"
     ]
    }
   ],
   "source": [
    "print(oussema_cleaned_size.loc[G,\"Size\"])\n",
    "y=oussema_df[\"Size\"][oussema_df[\"Size\"].str[-1]==\"G\"].index\n",
    "print(oussema_df.loc[y,\"Size\"])"
   ]
  },
  {
   "cell_type": "code",
   "execution_count": 45,
   "id": "e5389ac4-2898-4120-b266-8b55bd7aec31",
   "metadata": {},
   "outputs": [
    {
     "name": "stdout",
     "output_type": "stream",
     "text": [
      "81         0.124023\n",
      "235        0.518555\n",
      "278        0.334961\n",
      "301        0.994141\n",
      "403        0.865234\n",
      "             ...   \n",
      "2237590    0.027344\n",
      "2237626    0.409180\n",
      "2237662    0.619141\n",
      "2237883    0.903320\n",
      "2237886    0.970703\n",
      "Name: Size, Length: 36251, dtype: float64\n",
      "81           127k\n",
      "244          531k\n",
      "289          343k\n",
      "313        1,018k\n",
      "417          886k\n",
      "            ...  \n",
      "2312620       28k\n",
      "2312658      419k\n",
      "2312695      634k\n",
      "2312924      925k\n",
      "2312927      994k\n",
      "Name: Size, Length: 36253, dtype: object\n"
     ]
    }
   ],
   "source": [
    "print(oussema_cleaned_size.loc[k,\"Size\"])\n",
    "y=oussema_df[\"Size\"][oussema_df[\"Size\"].str[-1]==\"k\"].index\n",
    "print(oussema_df.loc[y,\"Size\"])"
   ]
  },
  {
   "cell_type": "code",
   "execution_count": 46,
   "id": "999da6ea-46ff-45a0-a6df-81e2cf67425a",
   "metadata": {},
   "outputs": [],
   "source": [
    "yacin_cleaned=oussema_cleaned_size"
   ]
  },
  {
   "cell_type": "code",
   "execution_count": 84,
   "id": "182ebd5a-4920-49b7-8a7a-c4728cf0bb62",
   "metadata": {},
   "outputs": [
    {
     "data": {
      "text/plain": [
       "1038"
      ]
     },
     "execution_count": 84,
     "metadata": {},
     "output_type": "execute_result"
    }
   ],
   "source": [
    "yacin_cleaned.loc[yacin_cleaned['Currency']!='USD','Currency']='USD' #every application that has a currency != than USD has 0.0 Price so converted all currency colmun to USD\n",
    "yacin_cleaned.Price.nunique()\n"
   ]
  },
  {
   "cell_type": "code",
   "execution_count": 86,
   "id": "94b4bbb1-f137-41d2-8537-9318eaa2ce1d",
   "metadata": {},
   "outputs": [],
   "source": [
    "yacin_cleaned_Currency_Price=yacin_cleaned"
   ]
  },
  {
   "cell_type": "code",
   "execution_count": 110,
   "id": "257e8e8c-9b59-45d5-a212-d2f90bf50d2d",
   "metadata": {},
   "outputs": [
    {
     "data": {
      "text/html": [
       "<div>\n",
       "<style scoped>\n",
       "    .dataframe tbody tr th:only-of-type {\n",
       "        vertical-align: middle;\n",
       "    }\n",
       "\n",
       "    .dataframe tbody tr th {\n",
       "        vertical-align: top;\n",
       "    }\n",
       "\n",
       "    .dataframe thead th {\n",
       "        text-align: right;\n",
       "    }\n",
       "</style>\n",
       "<table border=\"1\" class=\"dataframe\">\n",
       "  <thead>\n",
       "    <tr style=\"text-align: right;\">\n",
       "      <th></th>\n",
       "      <th>Rating</th>\n",
       "      <th>Rating Count</th>\n",
       "      <th>Minimum Android</th>\n",
       "      <th>Developer Id</th>\n",
       "    </tr>\n",
       "  </thead>\n",
       "  <tbody>\n",
       "    <tr>\n",
       "      <th>81</th>\n",
       "      <td>4.9</td>\n",
       "      <td>7.0</td>\n",
       "      <td>NaN</td>\n",
       "      <td>wwwinternet.it</td>\n",
       "    </tr>\n",
       "    <tr>\n",
       "      <th>675</th>\n",
       "      <td>1.4</td>\n",
       "      <td>5.0</td>\n",
       "      <td>NaN</td>\n",
       "      <td>Massinflux</td>\n",
       "    </tr>\n",
       "    <tr>\n",
       "      <th>697</th>\n",
       "      <td>4.4</td>\n",
       "      <td>17.0</td>\n",
       "      <td>NaN</td>\n",
       "      <td>CapeTitans Games</td>\n",
       "    </tr>\n",
       "    <tr>\n",
       "      <th>883</th>\n",
       "      <td>4.9</td>\n",
       "      <td>11.0</td>\n",
       "      <td>NaN</td>\n",
       "      <td>PhunktasticDesigns</td>\n",
       "    </tr>\n",
       "    <tr>\n",
       "      <th>2552</th>\n",
       "      <td>0.0</td>\n",
       "      <td>0.0</td>\n",
       "      <td>NaN</td>\n",
       "      <td>UVANDIT IT Service Provider</td>\n",
       "    </tr>\n",
       "    <tr>\n",
       "      <th>...</th>\n",
       "      <td>...</td>\n",
       "      <td>...</td>\n",
       "      <td>...</td>\n",
       "      <td>...</td>\n",
       "    </tr>\n",
       "    <tr>\n",
       "      <th>2236810</th>\n",
       "      <td>0.0</td>\n",
       "      <td>0.0</td>\n",
       "      <td>NaN</td>\n",
       "      <td>39 Degrees North LLC</td>\n",
       "    </tr>\n",
       "    <tr>\n",
       "      <th>2236854</th>\n",
       "      <td>0.0</td>\n",
       "      <td>0.0</td>\n",
       "      <td>NaN</td>\n",
       "      <td>INGENIO Technology Co. Ltd</td>\n",
       "    </tr>\n",
       "    <tr>\n",
       "      <th>2237151</th>\n",
       "      <td>4.9</td>\n",
       "      <td>13.0</td>\n",
       "      <td>NaN</td>\n",
       "      <td>Molecolab</td>\n",
       "    </tr>\n",
       "    <tr>\n",
       "      <th>2237163</th>\n",
       "      <td>4.2</td>\n",
       "      <td>10.0</td>\n",
       "      <td>NaN</td>\n",
       "      <td>Letsgay Team</td>\n",
       "    </tr>\n",
       "    <tr>\n",
       "      <th>2237628</th>\n",
       "      <td>3.6</td>\n",
       "      <td>180.0</td>\n",
       "      <td>NaN</td>\n",
       "      <td>Sevenlogics, INC</td>\n",
       "    </tr>\n",
       "  </tbody>\n",
       "</table>\n",
       "<p>6462 rows × 4 columns</p>\n",
       "</div>"
      ],
      "text/plain": [
       "         Rating  Rating Count Minimum Android                 Developer Id\n",
       "81          4.9           7.0             NaN               wwwinternet.it\n",
       "675         1.4           5.0             NaN                   Massinflux\n",
       "697         4.4          17.0             NaN             CapeTitans Games\n",
       "883         4.9          11.0             NaN           PhunktasticDesigns\n",
       "2552        0.0           0.0             NaN  UVANDIT IT Service Provider\n",
       "...         ...           ...             ...                          ...\n",
       "2236810     0.0           0.0             NaN         39 Degrees North LLC\n",
       "2236854     0.0           0.0             NaN   INGENIO Technology Co. Ltd\n",
       "2237151     4.9          13.0             NaN                    Molecolab\n",
       "2237163     4.2          10.0             NaN                 Letsgay Team\n",
       "2237628     3.6         180.0             NaN             Sevenlogics, INC\n",
       "\n",
       "[6462 rows x 4 columns]"
      ]
     },
     "execution_count": 110,
     "metadata": {},
     "output_type": "execute_result"
    }
   ],
   "source": [
    "yacin_cleaned_Currency_Price_Released=yacin_cleaned_Currency_Price.dropna(subset=['Released']) #dropped nan values from release date colmun\n",
    "#showing remaining colmuns and rows having nan values\n",
    "yacin_cleaned_Currency_Price_Released[yacin_cleaned_Currency_Price_Released.isnull().any(axis=1)][yacin_cleaned_Currency_Price_Released.columns[yacin_cleaned_Currency_Price_Released.isnull().any()]]"
   ]
  },
  {
   "cell_type": "code",
   "execution_count": 176,
   "id": "6e103438-b014-408d-a379-306e50bee334",
   "metadata": {},
   "outputs": [
    {
     "data": {
      "text/plain": [
       "Year\n",
       "2010    4.1\n",
       "2011    4.1\n",
       "2012    4.1\n",
       "2013    4.1\n",
       "2014    4.1\n",
       "2015    4.1\n",
       "2016    4.1\n",
       "2017    4.1\n",
       "2018    4.1\n",
       "2019    4.1\n",
       "2020    4.1\n",
       "2021    5.0\n",
       "Name: Minimum Android, dtype: object"
      ]
     },
     "execution_count": 176,
     "metadata": {},
     "output_type": "execute_result"
    }
   ],
   "source": [
    "'''yacin_cleaned_Currency_Price_Released['Released'] = pd.to_datetime(yacin_cleaned_Currency_Price_Released['Released'])\n",
    "yacin_cleaned_Currency_Price_Released['Minimum Android']=yacin_cleaned_Currency_Price_Released['Minimum Android'].str.replace('[and up]','',regex=True)\n",
    "grouped=yacin_cleaned_Currency_Price_Released.groupby('Released')['Minimum Android'].apply(lambda x: x.tolist())\n",
    "grouped[grouped.apply(lambda lst: any(pd.isnull(item) for item in lst))]\n",
    "yacin_cleaned_Currency_Price_Released['Year'] = yacin_cleaned_Currency_Price_Released['Released'].dt.year\n",
    "grouped_by_year = yacin_cleaned_Currency_Price_Released.groupby('Year')['Minimum Android'].apply(lambda x: x.tolist())\n",
    "grouped_by_year[grouped.apply(lambda lst: any(pd.isnull(item) for item in lst))]'''\n",
    "yacin_cleaned_Currency_Price_Released['Released'] = pd.to_datetime(yacin_cleaned_Currency_Price_Released['Released'])\n",
    "\n",
    "# Clean 'Minimum Android' column by removing 'and up'\n",
    "yacin_cleaned_Currency_Price_Released['Minimum Android'] = yacin_cleaned_Currency_Price_Released['Minimum Android'].str.replace(' and up', '', regex=False)\n",
    "\n",
    "# Extract the year from the 'Released' column\n",
    "yacin_cleaned_Currency_Price_Released['Year'] = yacin_cleaned_Currency_Price_Released['Released'].dt.year\n",
    "\n",
    "# Group by 'Year' and aggregate 'Minimum Android' into lists\n",
    "grouped_by_year = yacin_cleaned_Currency_Price_Released.groupby('Year')['Minimum Android'].apply(lambda x: x.tolist())\n",
    "# Filter to show only the lists containing NaN values\n",
    "grouped_by_year[grouped_by_year.apply(lambda lst: any(pd.isnull(item) for item in lst))]\n",
    "# Calculate the mode for each year\n",
    "mode_per_year = yacin_cleaned_Currency_Price_Released.groupby('Year')['Minimum Android'].agg(lambda x: x.mode().iloc[0] if not x.mode().empty else None)\n",
    "mode_per_year \n",
    "#change nan values with mean of each year\n",
    "yacin_cleaned_Currency_Price_Released['Minimum Android'] = yacin_cleaned_Currency_Price_Released.apply(\n",
    "    lambda row: mode_per_year[row['Year']] if pd.isnull(row['Minimum Android']) else row['Minimum Android'],\n",
    "    axis=1)\n"
   ]
  },
  {
   "cell_type": "code",
   "execution_count": 177,
   "id": "9e656c1f-ae23-4410-b614-b2e8bd655205",
   "metadata": {},
   "outputs": [
    {
     "data": {
      "text/html": [
       "<div>\n",
       "<style scoped>\n",
       "    .dataframe tbody tr th:only-of-type {\n",
       "        vertical-align: middle;\n",
       "    }\n",
       "\n",
       "    .dataframe tbody tr th {\n",
       "        vertical-align: top;\n",
       "    }\n",
       "\n",
       "    .dataframe thead th {\n",
       "        text-align: right;\n",
       "    }\n",
       "</style>\n",
       "<table border=\"1\" class=\"dataframe\">\n",
       "  <thead>\n",
       "    <tr style=\"text-align: right;\">\n",
       "      <th></th>\n",
       "      <th>Rating</th>\n",
       "      <th>Rating Count</th>\n",
       "      <th>Developer Id</th>\n",
       "    </tr>\n",
       "  </thead>\n",
       "  <tbody>\n",
       "    <tr>\n",
       "      <th>11202</th>\n",
       "      <td>NaN</td>\n",
       "      <td>NaN</td>\n",
       "      <td>2axion Brasil</td>\n",
       "    </tr>\n",
       "    <tr>\n",
       "      <th>16694</th>\n",
       "      <td>NaN</td>\n",
       "      <td>NaN</td>\n",
       "      <td>AFRITV.NET</td>\n",
       "    </tr>\n",
       "    <tr>\n",
       "      <th>29930</th>\n",
       "      <td>NaN</td>\n",
       "      <td>NaN</td>\n",
       "      <td>GoodiesOrganics</td>\n",
       "    </tr>\n",
       "    <tr>\n",
       "      <th>44607</th>\n",
       "      <td>NaN</td>\n",
       "      <td>NaN</td>\n",
       "      <td>alfacommunication.it</td>\n",
       "    </tr>\n",
       "    <tr>\n",
       "      <th>47776</th>\n",
       "      <td>NaN</td>\n",
       "      <td>NaN</td>\n",
       "      <td>AppsDunia</td>\n",
       "    </tr>\n",
       "    <tr>\n",
       "      <th>...</th>\n",
       "      <td>...</td>\n",
       "      <td>...</td>\n",
       "      <td>...</td>\n",
       "    </tr>\n",
       "    <tr>\n",
       "      <th>2191054</th>\n",
       "      <td>NaN</td>\n",
       "      <td>NaN</td>\n",
       "      <td>Bayer AG</td>\n",
       "    </tr>\n",
       "    <tr>\n",
       "      <th>2212167</th>\n",
       "      <td>NaN</td>\n",
       "      <td>NaN</td>\n",
       "      <td>Shenzhen TCL New Technology Co., Limited</td>\n",
       "    </tr>\n",
       "    <tr>\n",
       "      <th>2219292</th>\n",
       "      <td>NaN</td>\n",
       "      <td>NaN</td>\n",
       "      <td>Genies</td>\n",
       "    </tr>\n",
       "    <tr>\n",
       "      <th>2221894</th>\n",
       "      <td>NaN</td>\n",
       "      <td>NaN</td>\n",
       "      <td>3D3</td>\n",
       "    </tr>\n",
       "    <tr>\n",
       "      <th>2227918</th>\n",
       "      <td>NaN</td>\n",
       "      <td>NaN</td>\n",
       "      <td>GAMEMUD</td>\n",
       "    </tr>\n",
       "  </tbody>\n",
       "</table>\n",
       "<p>218 rows × 3 columns</p>\n",
       "</div>"
      ],
      "text/plain": [
       "         Rating  Rating Count                              Developer Id\n",
       "11202       NaN           NaN                             2axion Brasil\n",
       "16694       NaN           NaN                                AFRITV.NET\n",
       "29930       NaN           NaN                           GoodiesOrganics\n",
       "44607       NaN           NaN                      alfacommunication.it\n",
       "47776       NaN           NaN                                 AppsDunia\n",
       "...         ...           ...                                       ...\n",
       "2191054     NaN           NaN                                  Bayer AG\n",
       "2212167     NaN           NaN  Shenzhen TCL New Technology Co., Limited\n",
       "2219292     NaN           NaN                                    Genies\n",
       "2221894     NaN           NaN                                       3D3\n",
       "2227918     NaN           NaN                                   GAMEMUD\n",
       "\n",
       "[218 rows x 3 columns]"
      ]
     },
     "execution_count": 177,
     "metadata": {},
     "output_type": "execute_result"
    }
   ],
   "source": [
    "yacin_cleaned_Currency_Price_Released[yacin_cleaned_Currency_Price_Released.isnull().any(axis=1)][yacin_cleaned_Currency_Price_Released.columns[yacin_cleaned_Currency_Price_Released.isnull().any()]]"
   ]
  },
  {
   "cell_type": "code",
   "execution_count": 183,
   "id": "c1144c17-6d92-40e8-ada0-91393140c97c",
   "metadata": {},
   "outputs": [],
   "source": [
    "yacin_cleaned_Currency_Price_Released=yacin_cleaned_Currency_Price_Released.dropna().reset_index(drop=True)"
   ]
  },
  {
   "cell_type": "code",
   "execution_count": 184,
   "id": "9fd15fcd-a791-41a6-ad9c-82f55814b22b",
   "metadata": {},
   "outputs": [
    {
     "data": {
      "text/plain": [
       "App Name            0\n",
       "Category            0\n",
       "Rating              0\n",
       "Rating Count        0\n",
       "Minimum Installs    0\n",
       "Maximum Installs    0\n",
       "Free                0\n",
       "Price               0\n",
       "Currency            0\n",
       "Size                0\n",
       "Minimum Android     0\n",
       "Developer Id        0\n",
       "Released            0\n",
       "Last Updated        0\n",
       "Content Rating      0\n",
       "Ad Supported        0\n",
       "In App Purchases    0\n",
       "Editors Choice      0\n",
       "Scraped Time        0\n",
       "Year                0\n",
       "dtype: int64"
      ]
     },
     "execution_count": 184,
     "metadata": {},
     "output_type": "execute_result"
    }
   ],
   "source": [
    "yacin_cleaned_Currency_Price_Released.isnull().sum()"
   ]
  },
  {
   "cell_type": "code",
   "execution_count": 188,
   "id": "bafb7120-885c-4249-a7a6-538d65ea6f91",
   "metadata": {},
   "outputs": [
    {
     "data": {
      "text/html": [
       "<div>\n",
       "<style scoped>\n",
       "    .dataframe tbody tr th:only-of-type {\n",
       "        vertical-align: middle;\n",
       "    }\n",
       "\n",
       "    .dataframe tbody tr th {\n",
       "        vertical-align: top;\n",
       "    }\n",
       "\n",
       "    .dataframe thead th {\n",
       "        text-align: right;\n",
       "    }\n",
       "</style>\n",
       "<table border=\"1\" class=\"dataframe\">\n",
       "  <thead>\n",
       "    <tr style=\"text-align: right;\">\n",
       "      <th></th>\n",
       "      <th>App Name</th>\n",
       "      <th>Category</th>\n",
       "      <th>Rating</th>\n",
       "      <th>Rating Count</th>\n",
       "      <th>Minimum Installs</th>\n",
       "      <th>Maximum Installs</th>\n",
       "      <th>Free</th>\n",
       "      <th>Price</th>\n",
       "      <th>Currency</th>\n",
       "      <th>Size</th>\n",
       "      <th>Minimum Android</th>\n",
       "      <th>Developer Id</th>\n",
       "      <th>Released</th>\n",
       "      <th>Last Updated</th>\n",
       "      <th>Content Rating</th>\n",
       "      <th>Ad Supported</th>\n",
       "      <th>In App Purchases</th>\n",
       "      <th>Editors Choice</th>\n",
       "      <th>Scraped Time</th>\n",
       "    </tr>\n",
       "  </thead>\n",
       "  <tbody>\n",
       "    <tr>\n",
       "      <th>0</th>\n",
       "      <td>Gakondo</td>\n",
       "      <td>Adventure</td>\n",
       "      <td>0.0</td>\n",
       "      <td>0.0</td>\n",
       "      <td>10.0</td>\n",
       "      <td>15</td>\n",
       "      <td>1</td>\n",
       "      <td>0.0</td>\n",
       "      <td>USD</td>\n",
       "      <td>10.0</td>\n",
       "      <td>7.1</td>\n",
       "      <td>Jean Confident Irénée NIYIZIBYOSE</td>\n",
       "      <td>2020-02-26</td>\n",
       "      <td>Feb 26, 2020</td>\n",
       "      <td>Everyone</td>\n",
       "      <td>False</td>\n",
       "      <td>False</td>\n",
       "      <td>False</td>\n",
       "      <td>2021-06-15 20:19:35</td>\n",
       "    </tr>\n",
       "    <tr>\n",
       "      <th>1</th>\n",
       "      <td>Ampere Battery Info</td>\n",
       "      <td>Tools</td>\n",
       "      <td>4.4</td>\n",
       "      <td>64.0</td>\n",
       "      <td>5000.0</td>\n",
       "      <td>7662</td>\n",
       "      <td>1</td>\n",
       "      <td>0.0</td>\n",
       "      <td>USD</td>\n",
       "      <td>2.9</td>\n",
       "      <td>5.0</td>\n",
       "      <td>Webserveis</td>\n",
       "      <td>2020-05-21</td>\n",
       "      <td>May 06, 2021</td>\n",
       "      <td>Everyone</td>\n",
       "      <td>True</td>\n",
       "      <td>False</td>\n",
       "      <td>False</td>\n",
       "      <td>2021-06-15 20:19:35</td>\n",
       "    </tr>\n",
       "    <tr>\n",
       "      <th>2</th>\n",
       "      <td>Vibook</td>\n",
       "      <td>Productivity</td>\n",
       "      <td>0.0</td>\n",
       "      <td>0.0</td>\n",
       "      <td>50.0</td>\n",
       "      <td>58</td>\n",
       "      <td>1</td>\n",
       "      <td>0.0</td>\n",
       "      <td>USD</td>\n",
       "      <td>3.7</td>\n",
       "      <td>4.0.3</td>\n",
       "      <td>Cabin Crew</td>\n",
       "      <td>2019-08-09</td>\n",
       "      <td>Aug 19, 2019</td>\n",
       "      <td>Everyone</td>\n",
       "      <td>False</td>\n",
       "      <td>False</td>\n",
       "      <td>False</td>\n",
       "      <td>2021-06-15 20:19:35</td>\n",
       "    </tr>\n",
       "    <tr>\n",
       "      <th>3</th>\n",
       "      <td>Smart City Trichy Public Service Vehicles 17UC...</td>\n",
       "      <td>Communication</td>\n",
       "      <td>5.0</td>\n",
       "      <td>5.0</td>\n",
       "      <td>10.0</td>\n",
       "      <td>19</td>\n",
       "      <td>1</td>\n",
       "      <td>0.0</td>\n",
       "      <td>USD</td>\n",
       "      <td>1.8</td>\n",
       "      <td>4.0.3</td>\n",
       "      <td>Climate Smart Tech2</td>\n",
       "      <td>2018-09-10</td>\n",
       "      <td>Oct 13, 2018</td>\n",
       "      <td>Everyone</td>\n",
       "      <td>True</td>\n",
       "      <td>False</td>\n",
       "      <td>False</td>\n",
       "      <td>2021-06-15 20:19:35</td>\n",
       "    </tr>\n",
       "    <tr>\n",
       "      <th>4</th>\n",
       "      <td>GROW.me</td>\n",
       "      <td>Tools</td>\n",
       "      <td>0.0</td>\n",
       "      <td>0.0</td>\n",
       "      <td>100.0</td>\n",
       "      <td>478</td>\n",
       "      <td>1</td>\n",
       "      <td>0.0</td>\n",
       "      <td>USD</td>\n",
       "      <td>6.2</td>\n",
       "      <td>4.1</td>\n",
       "      <td>Rafal Milek-Horodyski</td>\n",
       "      <td>2020-02-21</td>\n",
       "      <td>Nov 12, 2018</td>\n",
       "      <td>Everyone</td>\n",
       "      <td>False</td>\n",
       "      <td>False</td>\n",
       "      <td>False</td>\n",
       "      <td>2021-06-15 20:19:35</td>\n",
       "    </tr>\n",
       "    <tr>\n",
       "      <th>...</th>\n",
       "      <td>...</td>\n",
       "      <td>...</td>\n",
       "      <td>...</td>\n",
       "      <td>...</td>\n",
       "      <td>...</td>\n",
       "      <td>...</td>\n",
       "      <td>...</td>\n",
       "      <td>...</td>\n",
       "      <td>...</td>\n",
       "      <td>...</td>\n",
       "      <td>...</td>\n",
       "      <td>...</td>\n",
       "      <td>...</td>\n",
       "      <td>...</td>\n",
       "      <td>...</td>\n",
       "      <td>...</td>\n",
       "      <td>...</td>\n",
       "      <td>...</td>\n",
       "      <td>...</td>\n",
       "    </tr>\n",
       "    <tr>\n",
       "      <th>2190385</th>\n",
       "      <td>Lero TOEFL Recorder + Timer</td>\n",
       "      <td>Education</td>\n",
       "      <td>3.4</td>\n",
       "      <td>17.0</td>\n",
       "      <td>1000.0</td>\n",
       "      <td>1980</td>\n",
       "      <td>1</td>\n",
       "      <td>0.0</td>\n",
       "      <td>USD</td>\n",
       "      <td>10.0</td>\n",
       "      <td>4.1</td>\n",
       "      <td>Julio Augusto Vera</td>\n",
       "      <td>2018-05-22</td>\n",
       "      <td>Dec 14, 2018</td>\n",
       "      <td>Everyone</td>\n",
       "      <td>True</td>\n",
       "      <td>False</td>\n",
       "      <td>False</td>\n",
       "      <td>2021-06-16 12:59:18</td>\n",
       "    </tr>\n",
       "    <tr>\n",
       "      <th>2190386</th>\n",
       "      <td>ORU Online</td>\n",
       "      <td>Education</td>\n",
       "      <td>0.0</td>\n",
       "      <td>0.0</td>\n",
       "      <td>100.0</td>\n",
       "      <td>430</td>\n",
       "      <td>1</td>\n",
       "      <td>0.0</td>\n",
       "      <td>USD</td>\n",
       "      <td>44.0</td>\n",
       "      <td>4.1</td>\n",
       "      <td>3Dream Studios, LLC</td>\n",
       "      <td>2018-01-17</td>\n",
       "      <td>Feb 02, 2018</td>\n",
       "      <td>Everyone</td>\n",
       "      <td>False</td>\n",
       "      <td>False</td>\n",
       "      <td>False</td>\n",
       "      <td>2021-06-16 12:59:19</td>\n",
       "    </tr>\n",
       "    <tr>\n",
       "      <th>2190387</th>\n",
       "      <td>Data Structure</td>\n",
       "      <td>Education</td>\n",
       "      <td>0.0</td>\n",
       "      <td>0.0</td>\n",
       "      <td>100.0</td>\n",
       "      <td>202</td>\n",
       "      <td>1</td>\n",
       "      <td>0.0</td>\n",
       "      <td>USD</td>\n",
       "      <td>29.0</td>\n",
       "      <td>5.0</td>\n",
       "      <td>appoworld</td>\n",
       "      <td>2018-08-19</td>\n",
       "      <td>Aug 19, 2018</td>\n",
       "      <td>Everyone</td>\n",
       "      <td>False</td>\n",
       "      <td>False</td>\n",
       "      <td>False</td>\n",
       "      <td>2021-06-16 12:59:19</td>\n",
       "    </tr>\n",
       "    <tr>\n",
       "      <th>2190388</th>\n",
       "      <td>Devi Suktam</td>\n",
       "      <td>Music &amp; Audio</td>\n",
       "      <td>3.5</td>\n",
       "      <td>8.0</td>\n",
       "      <td>1000.0</td>\n",
       "      <td>2635</td>\n",
       "      <td>1</td>\n",
       "      <td>0.0</td>\n",
       "      <td>USD</td>\n",
       "      <td>10.0</td>\n",
       "      <td>5.0</td>\n",
       "      <td>Bhakti</td>\n",
       "      <td>2016-08-01</td>\n",
       "      <td>May 05, 2021</td>\n",
       "      <td>Everyone</td>\n",
       "      <td>True</td>\n",
       "      <td>False</td>\n",
       "      <td>False</td>\n",
       "      <td>2021-06-16 12:59:19</td>\n",
       "    </tr>\n",
       "    <tr>\n",
       "      <th>2190389</th>\n",
       "      <td>Biliyor Musun - Sonsuz Yarış</td>\n",
       "      <td>Trivia</td>\n",
       "      <td>5.0</td>\n",
       "      <td>12.0</td>\n",
       "      <td>100.0</td>\n",
       "      <td>354</td>\n",
       "      <td>1</td>\n",
       "      <td>0.0</td>\n",
       "      <td>USD</td>\n",
       "      <td>5.2</td>\n",
       "      <td>5.0</td>\n",
       "      <td>Y Yazılım</td>\n",
       "      <td>2019-08-09</td>\n",
       "      <td>Aug 19, 2019</td>\n",
       "      <td>Everyone</td>\n",
       "      <td>True</td>\n",
       "      <td>False</td>\n",
       "      <td>False</td>\n",
       "      <td>2021-06-16 12:59:19</td>\n",
       "    </tr>\n",
       "  </tbody>\n",
       "</table>\n",
       "<p>2190390 rows × 19 columns</p>\n",
       "</div>"
      ],
      "text/plain": [
       "                                                  App Name       Category  \\\n",
       "0                                                  Gakondo      Adventure   \n",
       "1                                      Ampere Battery Info          Tools   \n",
       "2                                                   Vibook   Productivity   \n",
       "3        Smart City Trichy Public Service Vehicles 17UC...  Communication   \n",
       "4                                                  GROW.me          Tools   \n",
       "...                                                    ...            ...   \n",
       "2190385                        Lero TOEFL Recorder + Timer      Education   \n",
       "2190386                                         ORU Online      Education   \n",
       "2190387                                     Data Structure      Education   \n",
       "2190388                                        Devi Suktam  Music & Audio   \n",
       "2190389                       Biliyor Musun - Sonsuz Yarış         Trivia   \n",
       "\n",
       "         Rating  Rating Count  Minimum Installs  Maximum Installs  Free Price  \\\n",
       "0           0.0           0.0              10.0                15     1   0.0   \n",
       "1           4.4          64.0            5000.0              7662     1   0.0   \n",
       "2           0.0           0.0              50.0                58     1   0.0   \n",
       "3           5.0           5.0              10.0                19     1   0.0   \n",
       "4           0.0           0.0             100.0               478     1   0.0   \n",
       "...         ...           ...               ...               ...   ...   ...   \n",
       "2190385     3.4          17.0            1000.0              1980     1   0.0   \n",
       "2190386     0.0           0.0             100.0               430     1   0.0   \n",
       "2190387     0.0           0.0             100.0               202     1   0.0   \n",
       "2190388     3.5           8.0            1000.0              2635     1   0.0   \n",
       "2190389     5.0          12.0             100.0               354     1   0.0   \n",
       "\n",
       "        Currency  Size Minimum Android                       Developer Id  \\\n",
       "0            USD  10.0             7.1  Jean Confident Irénée NIYIZIBYOSE   \n",
       "1            USD   2.9             5.0                         Webserveis   \n",
       "2            USD   3.7           4.0.3                         Cabin Crew   \n",
       "3            USD   1.8           4.0.3                Climate Smart Tech2   \n",
       "4            USD   6.2             4.1              Rafal Milek-Horodyski   \n",
       "...          ...   ...             ...                                ...   \n",
       "2190385      USD  10.0             4.1                 Julio Augusto Vera   \n",
       "2190386      USD  44.0             4.1                3Dream Studios, LLC   \n",
       "2190387      USD  29.0             5.0                          appoworld   \n",
       "2190388      USD  10.0             5.0                             Bhakti   \n",
       "2190389      USD   5.2             5.0                          Y Yazılım   \n",
       "\n",
       "          Released  Last Updated Content Rating  Ad Supported  \\\n",
       "0       2020-02-26  Feb 26, 2020       Everyone         False   \n",
       "1       2020-05-21  May 06, 2021       Everyone          True   \n",
       "2       2019-08-09  Aug 19, 2019       Everyone         False   \n",
       "3       2018-09-10  Oct 13, 2018       Everyone          True   \n",
       "4       2020-02-21  Nov 12, 2018       Everyone         False   \n",
       "...            ...           ...            ...           ...   \n",
       "2190385 2018-05-22  Dec 14, 2018       Everyone          True   \n",
       "2190386 2018-01-17  Feb 02, 2018       Everyone         False   \n",
       "2190387 2018-08-19  Aug 19, 2018       Everyone         False   \n",
       "2190388 2016-08-01  May 05, 2021       Everyone          True   \n",
       "2190389 2019-08-09  Aug 19, 2019       Everyone          True   \n",
       "\n",
       "         In App Purchases  Editors Choice         Scraped Time  \n",
       "0                   False           False  2021-06-15 20:19:35  \n",
       "1                   False           False  2021-06-15 20:19:35  \n",
       "2                   False           False  2021-06-15 20:19:35  \n",
       "3                   False           False  2021-06-15 20:19:35  \n",
       "4                   False           False  2021-06-15 20:19:35  \n",
       "...                   ...             ...                  ...  \n",
       "2190385             False           False  2021-06-16 12:59:18  \n",
       "2190386             False           False  2021-06-16 12:59:19  \n",
       "2190387             False           False  2021-06-16 12:59:19  \n",
       "2190388             False           False  2021-06-16 12:59:19  \n",
       "2190389             False           False  2021-06-16 12:59:19  \n",
       "\n",
       "[2190390 rows x 19 columns]"
      ]
     },
     "execution_count": 188,
     "metadata": {},
     "output_type": "execute_result"
    }
   ],
   "source": [
    "yacin_cleaned_Currency_Price_Released['Free'] = yacin_cleaned_Currency_Price_Released['Free'].astype(int)\n",
    "yacin_cleaned_Currency_Price_Released.drop('Year',axis=1)\n"
   ]
  },
  {
   "cell_type": "code",
   "execution_count": null,
   "id": "8e891608-5221-4d4e-908f-b1aa0f0ffbbd",
   "metadata": {},
   "outputs": [],
   "source": []
  }
 ],
 "metadata": {
  "kernelspec": {
   "display_name": "Python 3 (ipykernel)",
   "language": "python",
   "name": "python3"
  },
  "language_info": {
   "codemirror_mode": {
    "name": "ipython",
    "version": 3
   },
   "file_extension": ".py",
   "mimetype": "text/x-python",
   "name": "python",
   "nbconvert_exporter": "python",
   "pygments_lexer": "ipython3",
   "version": "3.12.7"
  }
 },
 "nbformat": 4,
 "nbformat_minor": 5
}
