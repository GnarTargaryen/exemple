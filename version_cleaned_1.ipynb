{
 "cells": [
  {
   "cell_type": "code",
   "execution_count": 1,
   "id": "33050cda-0b63-46e7-b1ee-b27b15f81c23",
   "metadata": {},
   "outputs": [],
   "source": [
    "import pandas as pd \n",
    "import numpy as np\n",
    "import gc "
   ]
  },
  {
   "cell_type": "code",
   "execution_count": 2,
   "id": "1803e9b2-97ec-4642-bbc9-aaa6212f9ee5",
   "metadata": {},
   "outputs": [],
   "source": [
    "oussema_df=pd.read_csv(\"Google-Playstore.csv\")\n"
   ]
  },
  {
   "cell_type": "code",
   "execution_count": 3,
   "id": "27066f7c-64b3-4aa9-b0ae-704dd08c3c87",
   "metadata": {},
   "outputs": [
    {
     "name": "stdout",
     "output_type": "stream",
     "text": [
      "toutes les colonnes \n",
      " Index(['App Name', 'App Id', 'Category', 'Rating', 'Rating Count', 'Installs',\n",
      "       'Minimum Installs', 'Maximum Installs', 'Free', 'Price', 'Currency',\n",
      "       'Size', 'Minimum Android', 'Developer Id', 'Developer Website',\n",
      "       'Developer Email', 'Released', 'Last Updated', 'Content Rating',\n",
      "       'Privacy Policy', 'Ad Supported', 'In App Purchases', 'Editors Choice',\n",
      "       'Scraped Time'],\n",
      "      dtype='object')\n",
      "la taille (2312944, 24)\n"
     ]
    }
   ],
   "source": [
    "print(\"toutes les colonnes \\n\",oussema_df.columns)\n",
    "print(\"la taille\",oussema_df.shape)\n"
   ]
  },
  {
   "cell_type": "code",
   "execution_count": 5,
   "id": "974bfde5-77a8-4f29-8bdf-01ba62799bb6",
   "metadata": {},
   "outputs": [
    {
     "name": "stdout",
     "output_type": "stream",
     "text": [
      "Colonnes Restantes \n",
      " Index(['App Name', 'Category', 'Rating', 'Rating Count', 'Minimum Installs',\n",
      "       'Maximum Installs', 'Free', 'Price', 'Currency', 'Size',\n",
      "       'Minimum Android', 'Developer Id', 'Released', 'Last Updated',\n",
      "       'Content Rating', 'Ad Supported', 'In App Purchases', 'Editors Choice',\n",
      "       'Scraped Time'],\n",
      "      dtype='object')\n"
     ]
    }
   ],
   "source": [
    "#supprimer les colonnes inutiles\n",
    "oussema_dropped=oussema_df.drop(columns=[\"App Id\", \"Installs\",\"Developer Website\",\"Privacy Policy\",\"Developer Email\"])\n",
    "print(\"Colonnes Restantes \\n\",oussema_dropped.columns)"
   ]
  },
  {
   "cell_type": "code",
   "execution_count": 6,
   "id": "2904440c-2d4e-49aa-8373-486ed9e2968a",
   "metadata": {},
   "outputs": [
    {
     "name": "stdout",
     "output_type": "stream",
     "text": [
      "Colonnes contenant des Valeurs NAN et le nombre correspondant\n",
      "App Name                5\n",
      "Category                0\n",
      "Rating              22883\n",
      "Rating Count        22883\n",
      "Minimum Installs      107\n",
      "Maximum Installs        0\n",
      "Free                    0\n",
      "Price                   0\n",
      "Currency              135\n",
      "Size                  196\n",
      "Minimum Android      6530\n",
      "Developer Id           33\n",
      "Released            71053\n",
      "Last Updated            0\n",
      "Content Rating          0\n",
      "Ad Supported            0\n",
      "In App Purchases        0\n",
      "Editors Choice          0\n",
      "Scraped Time            0\n",
      "dtype: int64\n"
     ]
    }
   ],
   "source": [
    "print(\"Colonnes contenant des Valeurs NAN et le nombre correspondant\")\n",
    "print(oussema_dropped.isnull().sum())"
   ]
  },
  {
   "cell_type": "code",
   "execution_count": 8,
   "id": "a6aaa286-c64d-4a4d-8afd-b16fd0fdff4f",
   "metadata": {},
   "outputs": [
    {
     "data": {
      "text/plain": [
       "array([0.])"
      ]
     },
     "execution_count": 8,
     "metadata": {},
     "output_type": "execute_result"
    }
   ],
   "source": [
    "#checking the prices of currencies with nan values\n",
    "oussema_dropped[\"Price\"][oussema_dropped[\"Currency\"].isnull()].unique()"
   ]
  },
  {
   "cell_type": "code",
   "execution_count": 9,
   "id": "9f7613f3-6e25-4275-abb5-61789b8f7de0",
   "metadata": {},
   "outputs": [
    {
     "data": {
      "text/plain": [
       "np.int64(0)"
      ]
     },
     "execution_count": 9,
     "metadata": {},
     "output_type": "execute_result"
    }
   ],
   "source": [
    "s=oussema_dropped[\"App Name\"].isnull()\n",
    "s[s==True].index\n",
    "oussema_cleaned_app_name=oussema_dropped.drop(s[s==True].index, axis=0)\n",
    "oussema_cleaned_app_name[\"App Name\"].isnull().sum()\n"
   ]
  },
  {
   "cell_type": "code",
   "execution_count": 10,
   "id": "fe77a5c1-b681-4371-897d-39725fd4a5e1",
   "metadata": {},
   "outputs": [
    {
     "name": "stdout",
     "output_type": "stream",
     "text": [
      "[0.0, 1.0, 5.0, 10.0, 50.0, 100.0, 500.0, 1000.0, 5000.0, 10000.0, 50000.0, 100000.0, 500000.0, 1000000.0, 5000000.0, 10000000.0, 50000000.0, 100000000.0, nan, 500000000.0, 1000000000.0, 5000000000.0, 10000000000.0]\n"
     ]
    }
   ],
   "source": [
    "l=oussema_df.loc[:,\"Minimum Installs\"].unique().astype(float).tolist()\n",
    "\n",
    "l.sort()\n",
    "print(l)"
   ]
  },
  {
   "cell_type": "code",
   "execution_count": 11,
   "id": "1737cd13-f1c1-4c40-8f17-31ba36efb528",
   "metadata": {},
   "outputs": [
    {
     "name": "stdout",
     "output_type": "stream",
     "text": [
      "[0.0, 1.0, 5.0, 10.0, 50.0, 100.0, 500.0, 1000.0, 5000.0, 10000.0, 50000.0, 100000.0, 500000.0, 1000000.0, 5000000.0, 10000000.0, 50000000.0, 100000000.0, 500000000.0, 1000000000.0, 5000000000.0, 10000000000.0]\n"
     ]
    }
   ],
   "source": [
    "l.remove(l[18])\n",
    "print(l)\n",
    "\n"
   ]
  },
  {
   "cell_type": "code",
   "execution_count": 12,
   "id": "c33709b4-3438-48ff-8247-5f409fdcf71d",
   "metadata": {},
   "outputs": [],
   "source": [
    "x=oussema_dropped[\"Maximum Installs\"][oussema_dropped[\"Minimum Installs\"].isnull()==True]\n",
    "c=x[x==0].index\n"
   ]
  },
  {
   "cell_type": "code",
   "execution_count": 13,
   "id": "de3cff6e-a077-466b-ac7b-c64edba7a07b",
   "metadata": {},
   "outputs": [
    {
     "name": "stdout",
     "output_type": "stream",
     "text": [
      "         Minimum Installs\n",
      "64322                 0.0\n",
      "98053                 0.0\n",
      "148212                0.0\n",
      "157037                0.0\n",
      "159084                0.0\n",
      "269748                0.0\n",
      "326450                0.0\n",
      "354378                0.0\n",
      "367097                0.0\n",
      "389418                0.0\n",
      "497176                0.0\n",
      "522636                0.0\n",
      "681921                0.0\n",
      "858085                0.0\n",
      "1214628               0.0\n",
      "1266688               0.0\n",
      "1583223               0.0\n",
      "1860821               0.0\n",
      "1920390               0.0\n",
      "1979312               0.0\n",
      "2031518               0.0\n",
      "2032319               0.0\n",
      "2161180               0.0\n"
     ]
    }
   ],
   "source": [
    "oussema_dropped.loc[c, \"Minimum Installs\"] = 0 \n",
    "print(oussema_dropped.loc[c, [\"Minimum Installs\"]])\n"
   ]
  },
  {
   "cell_type": "code",
   "execution_count": 14,
   "id": "4b4ddb82-d9e5-4737-9088-ebc91f6dc492",
   "metadata": {},
   "outputs": [
    {
     "name": "stdout",
     "output_type": "stream",
     "text": [
      "         Minimum Installs\n",
      "249798                1.0\n",
      "1073673               1.0\n",
      "1137961               1.0\n",
      "1265635               1.0\n",
      "1293991               1.0\n",
      "1321518               1.0\n",
      "1329607               1.0\n",
      "1518768               1.0\n",
      "1878259               1.0\n",
      "2147123               1.0\n",
      "2149378               1.0\n"
     ]
    }
   ],
   "source": [
    "m=x[x==1].index\n",
    "oussema_dropped.loc[m, \"Minimum Installs\"] = 1\n",
    "print(oussema_dropped.loc[m, [\"Minimum Installs\"]])\n"
   ]
  },
  {
   "cell_type": "code",
   "execution_count": 15,
   "id": "7b67bd7f-98c7-47df-b5be-aac537f8aea6",
   "metadata": {},
   "outputs": [
    {
     "name": "stdout",
     "output_type": "stream",
     "text": [
      "[1.0, 5.0, 10.0, 50.0, 100.0, 500.0, 1000.0, 5000.0, 10000.0, 50000.0, 100000.0, 500000.0, 1000000.0, 5000000.0, 10000000.0, 50000000.0, 100000000.0, 500000000.0, 1000000000.0, 5000000000.0, 10000000000.0]\n"
     ]
    }
   ],
   "source": [
    "k=l[1:]\n",
    "print(k)"
   ]
  },
  {
   "cell_type": "code",
   "execution_count": 16,
   "id": "5ca7cc32-896f-4b7f-8319-6e918192b4bd",
   "metadata": {},
   "outputs": [],
   "source": [
    "for i in range(len(k) - 1):\n",
    "    oussema_dropped.loc[x[(x >= k[i]) & (x < k[i+1]) & (x < 10000000001)].index, \"Minimum Installs\"] = k[i]\n",
    "\n",
    "oussema_dropped.loc[x[x >= 10000000000].index, \"Minimum Installs\"] = 10000000000\n"
   ]
  },
  {
   "cell_type": "code",
   "execution_count": 17,
   "id": "ddbd6ebb-4c96-4191-b0b8-f9b69c958b52",
   "metadata": {},
   "outputs": [
    {
     "name": "stdout",
     "output_type": "stream",
     "text": [
      "         Maximum Installs  Minimum Installs\n",
      "5622                 1023            1000.0\n",
      "43569               72087           50000.0\n",
      "60888                   2               1.0\n",
      "64322                   0               0.0\n",
      "91391                   2               1.0\n",
      "...                   ...               ...\n",
      "2161180                 0               0.0\n",
      "2170210              5178            5000.0\n",
      "2205663              3238            1000.0\n",
      "2212570             13653           10000.0\n",
      "2311821            292415          100000.0\n",
      "\n",
      "[107 rows x 2 columns]\n"
     ]
    }
   ],
   "source": [
    "print(oussema_dropped.loc[x.index,[\"Maximum Installs\",\"Minimum Installs\"]])"
   ]
  },
  {
   "cell_type": "code",
   "execution_count": 18,
   "id": "b9c6612f-7880-4d74-8eb3-befd486de6e5",
   "metadata": {},
   "outputs": [
    {
     "name": "stdout",
     "output_type": "stream",
     "text": [
      "App Name                5\n",
      "Category                0\n",
      "Rating              22883\n",
      "Rating Count        22883\n",
      "Minimum Installs        0\n",
      "Maximum Installs        0\n",
      "Free                    0\n",
      "Price                   0\n",
      "Currency              135\n",
      "Size                  196\n",
      "Minimum Android      6530\n",
      "Developer Id           33\n",
      "Released            71053\n",
      "Last Updated            0\n",
      "Content Rating          0\n",
      "Ad Supported            0\n",
      "In App Purchases        0\n",
      "Editors Choice          0\n",
      "Scraped Time            0\n",
      "dtype: int64\n"
     ]
    }
   ],
   "source": [
    "print(oussema_dropped.isnull().sum())"
   ]
  },
  {
   "cell_type": "code",
   "execution_count": 19,
   "id": "dba15628-aa2f-4140-b0a0-01cb1e30d669",
   "metadata": {},
   "outputs": [],
   "source": [
    "oussema_new = oussema_dropped.drop(s[s == True].index, axis=0).reset_index(drop=True)\n",
    "\n"
   ]
  },
  {
   "cell_type": "code",
   "execution_count": 20,
   "id": "2a739f43-7282-441b-b90a-e7c48048c3fc",
   "metadata": {},
   "outputs": [
    {
     "name": "stdout",
     "output_type": "stream",
     "text": [
      "App Name                0\n",
      "Category                0\n",
      "Rating              22883\n",
      "Rating Count        22883\n",
      "Minimum Installs        0\n",
      "Maximum Installs        0\n",
      "Free                    0\n",
      "Price                   0\n",
      "Currency              135\n",
      "Size                  196\n",
      "Minimum Android      6530\n",
      "Developer Id           33\n",
      "Released            71053\n",
      "Last Updated            0\n",
      "Content Rating          0\n",
      "Ad Supported            0\n",
      "In App Purchases        0\n",
      "Editors Choice          0\n",
      "Scraped Time            0\n",
      "dtype: int64\n"
     ]
    }
   ],
   "source": [
    "print(oussema_new.isnull().sum())"
   ]
  },
  {
   "cell_type": "code",
   "execution_count": 21,
   "id": "1da6381a-074f-4edc-b49e-6b03e8c652b5",
   "metadata": {},
   "outputs": [
    {
     "name": "stdout",
     "output_type": "stream",
     "text": [
      "Index([   5622,   43569,   60887,   64321,   71020,   91390,   97326,   98052,\n",
      "        122977,  123355,\n",
      "       ...\n",
      "       2055152, 2143209, 2145845, 2147118, 2149373, 2161175, 2170205, 2205658,\n",
      "       2212565, 2311816],\n",
      "      dtype='int64', length=135)\n"
     ]
    }
   ],
   "source": [
    "oussema_cur=oussema_new.copy()[\"Currency\"]\n",
    "n=oussema_cur[oussema_cur.isnull()==True].index\n",
    "print(n)"
   ]
  },
  {
   "cell_type": "code",
   "execution_count": 22,
   "id": "931d8042-7656-43a9-89ee-bfb9f2867982",
   "metadata": {},
   "outputs": [
    {
     "data": {
      "text/html": [
       "<div>\n",
       "<style scoped>\n",
       "    .dataframe tbody tr th:only-of-type {\n",
       "        vertical-align: middle;\n",
       "    }\n",
       "\n",
       "    .dataframe tbody tr th {\n",
       "        vertical-align: top;\n",
       "    }\n",
       "\n",
       "    .dataframe thead th {\n",
       "        text-align: right;\n",
       "    }\n",
       "</style>\n",
       "<table border=\"1\" class=\"dataframe\">\n",
       "  <thead>\n",
       "    <tr style=\"text-align: right;\">\n",
       "      <th></th>\n",
       "      <th>Currency</th>\n",
       "      <th>Free</th>\n",
       "      <th>Price</th>\n",
       "    </tr>\n",
       "  </thead>\n",
       "  <tbody>\n",
       "    <tr>\n",
       "      <th>5622</th>\n",
       "      <td>NaN</td>\n",
       "      <td>False</td>\n",
       "      <td>0.0</td>\n",
       "    </tr>\n",
       "    <tr>\n",
       "      <th>43569</th>\n",
       "      <td>NaN</td>\n",
       "      <td>False</td>\n",
       "      <td>0.0</td>\n",
       "    </tr>\n",
       "    <tr>\n",
       "      <th>60887</th>\n",
       "      <td>NaN</td>\n",
       "      <td>False</td>\n",
       "      <td>0.0</td>\n",
       "    </tr>\n",
       "    <tr>\n",
       "      <th>64321</th>\n",
       "      <td>NaN</td>\n",
       "      <td>False</td>\n",
       "      <td>0.0</td>\n",
       "    </tr>\n",
       "    <tr>\n",
       "      <th>71020</th>\n",
       "      <td>NaN</td>\n",
       "      <td>False</td>\n",
       "      <td>0.0</td>\n",
       "    </tr>\n",
       "    <tr>\n",
       "      <th>...</th>\n",
       "      <td>...</td>\n",
       "      <td>...</td>\n",
       "      <td>...</td>\n",
       "    </tr>\n",
       "    <tr>\n",
       "      <th>2161175</th>\n",
       "      <td>NaN</td>\n",
       "      <td>False</td>\n",
       "      <td>0.0</td>\n",
       "    </tr>\n",
       "    <tr>\n",
       "      <th>2170205</th>\n",
       "      <td>NaN</td>\n",
       "      <td>False</td>\n",
       "      <td>0.0</td>\n",
       "    </tr>\n",
       "    <tr>\n",
       "      <th>2205658</th>\n",
       "      <td>NaN</td>\n",
       "      <td>False</td>\n",
       "      <td>0.0</td>\n",
       "    </tr>\n",
       "    <tr>\n",
       "      <th>2212565</th>\n",
       "      <td>NaN</td>\n",
       "      <td>False</td>\n",
       "      <td>0.0</td>\n",
       "    </tr>\n",
       "    <tr>\n",
       "      <th>2311816</th>\n",
       "      <td>NaN</td>\n",
       "      <td>False</td>\n",
       "      <td>0.0</td>\n",
       "    </tr>\n",
       "  </tbody>\n",
       "</table>\n",
       "<p>135 rows × 3 columns</p>\n",
       "</div>"
      ],
      "text/plain": [
       "        Currency   Free  Price\n",
       "5622         NaN  False    0.0\n",
       "43569        NaN  False    0.0\n",
       "60887        NaN  False    0.0\n",
       "64321        NaN  False    0.0\n",
       "71020        NaN  False    0.0\n",
       "...          ...    ...    ...\n",
       "2161175      NaN  False    0.0\n",
       "2170205      NaN  False    0.0\n",
       "2205658      NaN  False    0.0\n",
       "2212565      NaN  False    0.0\n",
       "2311816      NaN  False    0.0\n",
       "\n",
       "[135 rows x 3 columns]"
      ]
     },
     "execution_count": 22,
     "metadata": {},
     "output_type": "execute_result"
    }
   ],
   "source": [
    "oussema_new.loc[n,[\"Currency\",\"Free\",\"Price\"]]"
   ]
  },
  {
   "cell_type": "code",
   "execution_count": 23,
   "id": "a22a1138-5db1-4856-aea6-afa4d962fad4",
   "metadata": {},
   "outputs": [
    {
     "name": "stdout",
     "output_type": "stream",
     "text": [
      "App Name                0\n",
      "Category                0\n",
      "Rating              22768\n",
      "Rating Count        22768\n",
      "Minimum Installs        0\n",
      "Maximum Installs        0\n",
      "Free                    0\n",
      "Price                   0\n",
      "Currency                0\n",
      "Size                  195\n",
      "Minimum Android      6530\n",
      "Developer Id           33\n",
      "Released            70951\n",
      "Last Updated            0\n",
      "Content Rating          0\n",
      "Ad Supported            0\n",
      "In App Purchases        0\n",
      "Editors Choice          0\n",
      "Scraped Time            0\n",
      "dtype: int64\n"
     ]
    }
   ],
   "source": [
    "oussema_cleaned= oussema_new.drop(index=n, axis=0).reset_index(drop=True)\n",
    "print(oussema_cleaned.isnull().sum())"
   ]
  },
  {
   "cell_type": "code",
   "execution_count": 24,
   "id": "c696f5a4-6a34-4fee-be63-17dd7fa9f734",
   "metadata": {},
   "outputs": [],
   "source": [
    "oussema_size=oussema_cleaned.copy()\n"
   ]
  },
  {
   "cell_type": "code",
   "execution_count": 25,
   "id": "2dd02868-a02c-4e7b-b2df-bbb6fbe6c5d8",
   "metadata": {},
   "outputs": [
    {
     "name": "stdout",
     "output_type": "stream",
     "text": [
      "0.008431324055129617\n"
     ]
    }
   ],
   "source": [
    "m=oussema_size[\"Size\"][oussema_size[\"Size\"].isnull()==True].index\n",
    "print((len(m)/oussema_size.shape[0])*100)\n",
    "#Can be dropped"
   ]
  },
  {
   "cell_type": "code",
   "execution_count": 27,
   "id": "6f13414d-81a9-4921-a0ac-a2e41f307e33",
   "metadata": {},
   "outputs": [
    {
     "name": "stdout",
     "output_type": "stream",
     "text": [
      "App Name                0\n",
      "Category                0\n",
      "Rating              22573\n",
      "Rating Count        22573\n",
      "Minimum Installs        0\n",
      "Maximum Installs        0\n",
      "Free                    0\n",
      "Price                   0\n",
      "Currency                0\n",
      "Size                    0\n",
      "Minimum Android      6530\n",
      "Developer Id           33\n",
      "Released            70756\n",
      "Last Updated            0\n",
      "Content Rating          0\n",
      "Ad Supported            0\n",
      "In App Purchases        0\n",
      "Editors Choice          0\n",
      "Scraped Time            0\n",
      "dtype: int64\n"
     ]
    }
   ],
   "source": [
    "oussema_cleaned=oussema_size.drop(index=m, axis=0).reset_index(drop=True)\n",
    "print(oussema_cleaned.isnull().sum())\n"
   ]
  },
  {
   "cell_type": "code",
   "execution_count": 28,
   "id": "1992d20e-58ca-471b-a28f-231c399c41ac",
   "metadata": {},
   "outputs": [
    {
     "data": {
      "text/plain": [
       "array(['M', 'k', 'e', 'G'], dtype=object)"
      ]
     },
     "execution_count": 28,
     "metadata": {},
     "output_type": "execute_result"
    }
   ],
   "source": [
    "oussema_cleaned[\"Size\"].str[-1].unique()"
   ]
  },
  {
   "cell_type": "code",
   "execution_count": 29,
   "id": "78888468-9216-4129-a71f-ef3b3bca6596",
   "metadata": {},
   "outputs": [
    {
     "data": {
      "text/plain": [
       "3.230377465451358"
      ]
     },
     "execution_count": 29,
     "metadata": {},
     "output_type": "execute_result"
    }
   ],
   "source": [
    "a=oussema_cleaned[\"Size\"][oussema_cleaned[\"Size\"].str[-1]==\"e\"].index\n",
    "(len(a)*100)/oussema_cleaned.shape[0]"
   ]
  },
  {
   "cell_type": "code",
   "execution_count": 30,
   "id": "545771a1-9f47-4142-bfd1-6ffd7c6309f2",
   "metadata": {},
   "outputs": [],
   "source": [
    "oussema_cleaned_size=oussema_cleaned.copy()"
   ]
  },
  {
   "cell_type": "code",
   "execution_count": 31,
   "id": "7a2e2a1b-55af-49e7-894a-baa292904844",
   "metadata": {},
   "outputs": [],
   "source": [
    "oussema_cleaned_size=oussema_cleaned_size.drop(index=a,axis=0).reset_index(drop=True)"
   ]
  },
  {
   "cell_type": "code",
   "execution_count": 32,
   "id": "f35c49db-462c-4dd9-9df9-b3d1bf0a3afc",
   "metadata": {},
   "outputs": [],
   "source": [
    "k=oussema_cleaned_size[\"Size\"][oussema_cleaned_size[\"Size\"].str[-1]==\"k\"].index\n",
    "G=oussema_cleaned_size[\"Size\"][oussema_cleaned_size[\"Size\"].str[-1]==\"G\"].index"
   ]
  },
  {
   "cell_type": "code",
   "execution_count": 33,
   "id": "0163a1ac-4af1-4e58-9067-23f9a6405408",
   "metadata": {},
   "outputs": [],
   "source": [
    "oussema_cleaned_size['Size'] = oussema_cleaned_size['Size'].str[:-1]"
   ]
  },
  {
   "cell_type": "code",
   "execution_count": 34,
   "id": "9497093c-ae54-469b-8716-31c813af34f4",
   "metadata": {},
   "outputs": [
    {
     "name": "stdout",
     "output_type": "stream",
     "text": [
      "0     10\n",
      "1    2.9\n",
      "2    3.7\n",
      "3    1.8\n",
      "4    6.2\n",
      "Name: Size, dtype: object\n"
     ]
    }
   ],
   "source": [
    "print(oussema_cleaned_size[\"Size\"].head())\n"
   ]
  },
  {
   "cell_type": "code",
   "execution_count": 35,
   "id": "7206e4ad-68bb-42f6-99cb-21ad5a098485",
   "metadata": {},
   "outputs": [],
   "source": [
    "oussema_cleaned_size[\"Size\"] = oussema_cleaned_size[\"Size\"].replace(\",\", \"\", regex=True)"
   ]
  },
  {
   "cell_type": "code",
   "execution_count": 36,
   "id": "2ad5bf06-1132-411e-8a0a-7e57f6304d3d",
   "metadata": {},
   "outputs": [],
   "source": [
    "oussema_cleaned_size['Size'] =oussema_cleaned_size['Size'].astype(float)"
   ]
  },
  {
   "cell_type": "code",
   "execution_count": 37,
   "id": "9585af3a-0d45-4a3f-9150-7f27d063e17c",
   "metadata": {},
   "outputs": [],
   "source": [
    "oussema_cleaned_size.loc[k,\"Size\"]=oussema_cleaned_size.loc[k,\"Size\"]/1024\n",
    "oussema_cleaned_size.loc[G,\"Size\"]=oussema_cleaned_size.loc[G,\"Size\"]*1024"
   ]
  },
  {
   "cell_type": "code",
   "execution_count": 38,
   "id": "aa633848-2870-4f4b-bcaf-a1a36c472382",
   "metadata": {},
   "outputs": [
    {
     "name": "stdout",
     "output_type": "stream",
     "text": [
      "90252      1536.0\n",
      "284198     1126.4\n",
      "464543     1024.0\n",
      "496768     1126.4\n",
      "512729     1536.0\n",
      "657611     1126.4\n",
      "919842     1126.4\n",
      "932969     1126.4\n",
      "1024817    1126.4\n",
      "1596949    1126.4\n",
      "2007555    1024.0\n",
      "2054970    1126.4\n",
      "2225726    1024.0\n",
      "Name: Size, dtype: float64\n",
      "93175      1.5G\n",
      "293625     1.1G\n",
      "479954     1.0G\n",
      "513216     1.1G\n",
      "529736     1.5G\n",
      "679447     1.1G\n",
      "950479     1.1G\n",
      "964066     1.1G\n",
      "1059080    1.1G\n",
      "1650399    1.1G\n",
      "2074779    1.0G\n",
      "2123758    1.1G\n",
      "2300318    1.0G\n",
      "Name: Size, dtype: object\n"
     ]
    }
   ],
   "source": [
    "print(oussema_cleaned_size.loc[G,\"Size\"])\n",
    "y=oussema_df[\"Size\"][oussema_df[\"Size\"].str[-1]==\"G\"].index\n",
    "print(oussema_df.loc[y,\"Size\"])"
   ]
  },
  {
   "cell_type": "code",
   "execution_count": 39,
   "id": "e5389ac4-2898-4120-b266-8b55bd7aec31",
   "metadata": {},
   "outputs": [
    {
     "name": "stdout",
     "output_type": "stream",
     "text": [
      "81         0.124023\n",
      "235        0.518555\n",
      "278        0.334961\n",
      "301        0.994141\n",
      "403        0.865234\n",
      "             ...   \n",
      "2237590    0.027344\n",
      "2237626    0.409180\n",
      "2237662    0.619141\n",
      "2237883    0.903320\n",
      "2237886    0.970703\n",
      "Name: Size, Length: 36251, dtype: float64\n",
      "81           127k\n",
      "244          531k\n",
      "289          343k\n",
      "313        1,018k\n",
      "417          886k\n",
      "            ...  \n",
      "2312620       28k\n",
      "2312658      419k\n",
      "2312695      634k\n",
      "2312924      925k\n",
      "2312927      994k\n",
      "Name: Size, Length: 36253, dtype: object\n"
     ]
    }
   ],
   "source": [
    "print(oussema_cleaned_size.loc[k,\"Size\"])\n",
    "y=oussema_df[\"Size\"][oussema_df[\"Size\"].str[-1]==\"k\"].index\n",
    "print(oussema_df.loc[y,\"Size\"])"
   ]
  },
  {
   "cell_type": "code",
   "execution_count": 40,
   "id": "f6f4220c-d2d3-447b-9e13-098bed1271d0",
   "metadata": {},
   "outputs": [
    {
     "name": "stdout",
     "output_type": "stream",
     "text": [
      "App Name                0\n",
      "Category                0\n",
      "Rating                914\n",
      "Rating Count          914\n",
      "Minimum Installs        0\n",
      "Maximum Installs        0\n",
      "Free                    0\n",
      "Price                   0\n",
      "Currency                0\n",
      "Size                    0\n",
      "Minimum Android      6413\n",
      "Developer Id           32\n",
      "Released            47295\n",
      "Last Updated            0\n",
      "Content Rating          0\n",
      "Ad Supported            0\n",
      "In App Purchases        0\n",
      "Editors Choice          0\n",
      "Scraped Time            0\n",
      "dtype: int64\n"
     ]
    }
   ],
   "source": [
    "print(oussema_cleaned_size.isnull().sum())"
   ]
  },
  {
   "cell_type": "code",
   "execution_count": 41,
   "id": "4754fc94-77f6-4e24-b3a9-0a69cb01514c",
   "metadata": {},
   "outputs": [
    {
     "name": "stdout",
     "output_type": "stream",
     "text": [
      "G\t a\t c\t gc\t i\t k\t l\t m\t n\t \n",
      "np\t oussema_cleaned\t oussema_cleaned_app_name\t oussema_cleaned_size\t oussema_cur\t oussema_df\t oussema_dropped\t oussema_new\t oussema_size\t \n",
      "pd\t s\t x\t y\t \n"
     ]
    }
   ],
   "source": [
    "%who"
   ]
  },
  {
   "cell_type": "code",
   "execution_count": 42,
   "id": "931f6707-08b7-4465-85e2-de86b6b1c22f",
   "metadata": {},
   "outputs": [
    {
     "data": {
      "text/plain": [
       "53"
      ]
     },
     "execution_count": 42,
     "metadata": {},
     "output_type": "execute_result"
    }
   ],
   "source": [
    "del G \n",
    "del a\n",
    "del c\n",
    "del i\n",
    "del k \n",
    "del l\n",
    "del m\n",
    "del n\n",
    "del oussema_cleaned\n",
    "del oussema_cleaned_app_name\n",
    "del oussema_cur\n",
    "del oussema_df\n",
    "del oussema_dropped\n",
    "del oussema_new\n",
    "del oussema_size\n",
    "del s \n",
    "del x \n",
    "\n",
    "gc.collect()"
   ]
  },
  {
   "cell_type": "code",
   "execution_count": 43,
   "id": "db5e8c55-c21c-494a-b3ab-409605f945fe",
   "metadata": {},
   "outputs": [],
   "source": [
    "oussema_cleaned_1=oussema_cleaned_size.copy()"
   ]
  },
  {
   "cell_type": "code",
   "execution_count": 44,
   "id": "2737d0be-ad69-4df7-bfe7-4b3c9adb5de3",
   "metadata": {},
   "outputs": [
    {
     "data": {
      "text/plain": [
       "0"
      ]
     },
     "execution_count": 44,
     "metadata": {},
     "output_type": "execute_result"
    }
   ],
   "source": [
    "del oussema_cleaned_size\n",
    "gc.collect()"
   ]
  },
  {
   "cell_type": "code",
   "execution_count": 45,
   "id": "36908a93-5de8-41d2-96d6-aea3f3c0b3fa",
   "metadata": {},
   "outputs": [],
   "source": [
    "oussema_cleaned=oussema_cleaned_1.copy()"
   ]
  },
  {
   "cell_type": "code",
   "execution_count": 46,
   "id": "f04e6c19-8bfe-426e-8d32-7746e6885074",
   "metadata": {},
   "outputs": [
    {
     "name": "stdout",
     "output_type": "stream",
     "text": [
      "gc\t np\t oussema_cleaned\t oussema_cleaned_1\t pd\t y\t \n"
     ]
    }
   ],
   "source": [
    "%who\n"
   ]
  },
  {
   "cell_type": "code",
   "execution_count": 47,
   "id": "8b03443a-4193-45b8-bd17-4f2b91ae88ed",
   "metadata": {},
   "outputs": [
    {
     "data": {
      "text/plain": [
       "0"
      ]
     },
     "execution_count": 47,
     "metadata": {},
     "output_type": "execute_result"
    }
   ],
   "source": [
    "del oussema_cleaned_1 \n",
    "del y\n",
    "gc.collect()"
   ]
  },
  {
   "cell_type": "code",
   "execution_count": 48,
   "id": "59e37254-08c7-4563-8b95-9d3155592881",
   "metadata": {},
   "outputs": [
    {
     "name": "stdout",
     "output_type": "stream",
     "text": [
      "gc\t np\t oussema_cleaned\t pd\t \n"
     ]
    }
   ],
   "source": [
    "%who\n"
   ]
  },
  {
   "cell_type": "code",
   "execution_count": null,
   "id": "0c73debb-edf4-4db9-8866-f5c1427caed8",
   "metadata": {},
   "outputs": [],
   "source": [
    "oussema_cleaned"
   ]
  }
 ],
 "metadata": {
  "kernelspec": {
   "display_name": "Python 3 (ipykernel)",
   "language": "python",
   "name": "python3"
  },
  "language_info": {
   "codemirror_mode": {
    "name": "ipython",
    "version": 3
   },
   "file_extension": ".py",
   "mimetype": "text/x-python",
   "name": "python",
   "nbconvert_exporter": "python",
   "pygments_lexer": "ipython3",
   "version": "3.13.0"
  }
 },
 "nbformat": 4,
 "nbformat_minor": 5
}
